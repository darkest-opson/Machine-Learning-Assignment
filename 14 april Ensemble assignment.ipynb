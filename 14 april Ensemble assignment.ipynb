{
 "cells": [
  {
   "cell_type": "code",
   "execution_count": 1,
   "id": "3941e817-705a-4e34-91c5-4a8dff6828b1",
   "metadata": {},
   "outputs": [],
   "source": [
    "# Build a random forest classifier to predict the risk of heart disease based on a dataset of patient\n",
    "# information. The dataset contains 303 instances with 14 features, including age, sex, chest pain type,\n",
    "# resting blood pressure, serum cholesterol, and maximum heart rate achieved.\n",
    "# Dataset link: https://drive.google.com/file/d/1bGoIE4Z2kG5nyh-fGZAJ7LH0ki3UfmSJ/view?\n",
    "# usp=share_link\n",
    "# Q1. Preprocess the dataset by handling missing values, encoding categorical variables, and scaling the\n",
    "# numerical features if necessary.\n",
    "# Q2. Split the dataset into a training set (70%) and a test set (30%).\n",
    "# Q3. Train a random forest classifier on the training set using 100 trees and a maximum depth of 10 for each\n",
    "# tree. Use the default values for other hyperparameters.\n",
    "# Q4. Evaluate the performance of the model on the test set using accuracy, precision, recall, and F1 score.\n",
    "# Q5. Use the feature importance scores to identify the top 5 most important features in predicting heart\n",
    "# disease risk. Visualise the feature importances using a bar chart.\n",
    "# Q6. Tune the hyperparameters of the random forest classifier using grid search or random search. Try\n",
    "# different values of the number of trees, maximum depth, minimum samples split, and minimum samples\n",
    "# leaf. Use 5-fold cross-validation to evaluate the performance of each set of hyperparameters.\n",
    "# Q7. Report the best set of hyperparameters found by the search and the corresponding performance\n",
    "# metrics. Compare the performance of the tuned model with the default model.\n",
    "# Q8. Interpret the model by analysing the decision boundaries of the random forest classifier. Plot the\n",
    "# decision boundaries on a scatter plot of two of the most important features. Discuss the insights and\n",
    "# limitations of the model for predicting heart disease risk."
   ]
  },
  {
   "cell_type": "code",
   "execution_count": 2,
   "id": "0dc546f7-7984-4329-b674-ddf930a13e60",
   "metadata": {},
   "outputs": [],
   "source": [
    "import pandas as pd"
   ]
  },
  {
   "cell_type": "code",
   "execution_count": 4,
   "id": "d95f0208-8db4-4981-92a2-b527f09d1f82",
   "metadata": {},
   "outputs": [],
   "source": [
    "df =pd.read_csv('dataset.csv')"
   ]
  },
  {
   "cell_type": "code",
   "execution_count": 5,
   "id": "96a28cba-d280-48db-996a-bda6508f1368",
   "metadata": {},
   "outputs": [
    {
     "data": {
      "text/html": [
       "<div>\n",
       "<style scoped>\n",
       "    .dataframe tbody tr th:only-of-type {\n",
       "        vertical-align: middle;\n",
       "    }\n",
       "\n",
       "    .dataframe tbody tr th {\n",
       "        vertical-align: top;\n",
       "    }\n",
       "\n",
       "    .dataframe thead th {\n",
       "        text-align: right;\n",
       "    }\n",
       "</style>\n",
       "<table border=\"1\" class=\"dataframe\">\n",
       "  <thead>\n",
       "    <tr style=\"text-align: right;\">\n",
       "      <th></th>\n",
       "      <th>age</th>\n",
       "      <th>sex</th>\n",
       "      <th>cp</th>\n",
       "      <th>trestbps</th>\n",
       "      <th>chol</th>\n",
       "      <th>fbs</th>\n",
       "      <th>restecg</th>\n",
       "      <th>thalach</th>\n",
       "      <th>exang</th>\n",
       "      <th>oldpeak</th>\n",
       "      <th>slope</th>\n",
       "      <th>ca</th>\n",
       "      <th>thal</th>\n",
       "      <th>target</th>\n",
       "    </tr>\n",
       "  </thead>\n",
       "  <tbody>\n",
       "    <tr>\n",
       "      <th>0</th>\n",
       "      <td>63</td>\n",
       "      <td>1</td>\n",
       "      <td>3</td>\n",
       "      <td>145</td>\n",
       "      <td>233</td>\n",
       "      <td>1</td>\n",
       "      <td>0</td>\n",
       "      <td>150</td>\n",
       "      <td>0</td>\n",
       "      <td>2.3</td>\n",
       "      <td>0</td>\n",
       "      <td>0</td>\n",
       "      <td>1</td>\n",
       "      <td>1</td>\n",
       "    </tr>\n",
       "    <tr>\n",
       "      <th>1</th>\n",
       "      <td>37</td>\n",
       "      <td>1</td>\n",
       "      <td>2</td>\n",
       "      <td>130</td>\n",
       "      <td>250</td>\n",
       "      <td>0</td>\n",
       "      <td>1</td>\n",
       "      <td>187</td>\n",
       "      <td>0</td>\n",
       "      <td>3.5</td>\n",
       "      <td>0</td>\n",
       "      <td>0</td>\n",
       "      <td>2</td>\n",
       "      <td>1</td>\n",
       "    </tr>\n",
       "    <tr>\n",
       "      <th>2</th>\n",
       "      <td>41</td>\n",
       "      <td>0</td>\n",
       "      <td>1</td>\n",
       "      <td>130</td>\n",
       "      <td>204</td>\n",
       "      <td>0</td>\n",
       "      <td>0</td>\n",
       "      <td>172</td>\n",
       "      <td>0</td>\n",
       "      <td>1.4</td>\n",
       "      <td>2</td>\n",
       "      <td>0</td>\n",
       "      <td>2</td>\n",
       "      <td>1</td>\n",
       "    </tr>\n",
       "    <tr>\n",
       "      <th>3</th>\n",
       "      <td>56</td>\n",
       "      <td>1</td>\n",
       "      <td>1</td>\n",
       "      <td>120</td>\n",
       "      <td>236</td>\n",
       "      <td>0</td>\n",
       "      <td>1</td>\n",
       "      <td>178</td>\n",
       "      <td>0</td>\n",
       "      <td>0.8</td>\n",
       "      <td>2</td>\n",
       "      <td>0</td>\n",
       "      <td>2</td>\n",
       "      <td>1</td>\n",
       "    </tr>\n",
       "    <tr>\n",
       "      <th>4</th>\n",
       "      <td>57</td>\n",
       "      <td>0</td>\n",
       "      <td>0</td>\n",
       "      <td>120</td>\n",
       "      <td>354</td>\n",
       "      <td>0</td>\n",
       "      <td>1</td>\n",
       "      <td>163</td>\n",
       "      <td>1</td>\n",
       "      <td>0.6</td>\n",
       "      <td>2</td>\n",
       "      <td>0</td>\n",
       "      <td>2</td>\n",
       "      <td>1</td>\n",
       "    </tr>\n",
       "  </tbody>\n",
       "</table>\n",
       "</div>"
      ],
      "text/plain": [
       "   age  sex  cp  trestbps  chol  fbs  restecg  thalach  exang  oldpeak  slope  \\\n",
       "0   63    1   3       145   233    1        0      150      0      2.3      0   \n",
       "1   37    1   2       130   250    0        1      187      0      3.5      0   \n",
       "2   41    0   1       130   204    0        0      172      0      1.4      2   \n",
       "3   56    1   1       120   236    0        1      178      0      0.8      2   \n",
       "4   57    0   0       120   354    0        1      163      1      0.6      2   \n",
       "\n",
       "   ca  thal  target  \n",
       "0   0     1       1  \n",
       "1   0     2       1  \n",
       "2   0     2       1  \n",
       "3   0     2       1  \n",
       "4   0     2       1  "
      ]
     },
     "execution_count": 5,
     "metadata": {},
     "output_type": "execute_result"
    }
   ],
   "source": [
    "df.head()"
   ]
  },
  {
   "cell_type": "code",
   "execution_count": 20,
   "id": "5e4449cc-3c36-4798-a96d-70ecd0a1549a",
   "metadata": {},
   "outputs": [],
   "source": [
    "X = df.drop(['target'],axis=1)\n",
    "y = df.target"
   ]
  },
  {
   "cell_type": "code",
   "execution_count": 21,
   "id": "7b741dd5-1c5e-4ad2-a8bf-f4c0aaba288f",
   "metadata": {},
   "outputs": [],
   "source": [
    "# Q1. Preprocess the dataset by handling missing values, encoding categorical variables, and scaling the\n",
    "# numerical features if necessary."
   ]
  },
  {
   "cell_type": "code",
   "execution_count": 22,
   "id": "4edc266e-5fa5-4ce5-ac36-a3ba0df703d9",
   "metadata": {},
   "outputs": [
    {
     "data": {
      "text/plain": [
       "age         0\n",
       "sex         0\n",
       "cp          0\n",
       "trestbps    0\n",
       "chol        0\n",
       "fbs         0\n",
       "restecg     0\n",
       "thalach     0\n",
       "exang       0\n",
       "oldpeak     0\n",
       "slope       0\n",
       "ca          0\n",
       "thal        0\n",
       "target      0\n",
       "dtype: int64"
      ]
     },
     "execution_count": 22,
     "metadata": {},
     "output_type": "execute_result"
    }
   ],
   "source": [
    "df.isnull().sum()"
   ]
  },
  {
   "cell_type": "code",
   "execution_count": 25,
   "id": "3d67339a-2cff-45ad-bb26-5879652310eb",
   "metadata": {},
   "outputs": [],
   "source": [
    "from sklearn.model_selection import train_test_split"
   ]
  },
  {
   "cell_type": "code",
   "execution_count": 26,
   "id": "8e99e30f-a0da-408e-8220-2cb4c2a6e9ee",
   "metadata": {},
   "outputs": [],
   "source": [
    "# Q2. Split the dataset into a training set (70%) and a test set (30%).\n",
    "X_train, X_test, y_train, y_test = train_test_split(X,y,test_size=0.3,random_state=42)"
   ]
  },
  {
   "cell_type": "code",
   "execution_count": 23,
   "id": "931c743d-cb37-4b1d-b08d-6344ea7b0f8e",
   "metadata": {},
   "outputs": [],
   "source": [
    "from sklearn.preprocessing import StandardScaler\n"
   ]
  },
  {
   "cell_type": "code",
   "execution_count": 24,
   "id": "6345f732-3b4f-4690-8a6c-738cf15bba7e",
   "metadata": {},
   "outputs": [],
   "source": [
    "scale = StandardScaler()"
   ]
  },
  {
   "cell_type": "code",
   "execution_count": 17,
   "id": "edf3ea16-9980-4f9d-808a-22e43547cd44",
   "metadata": {},
   "outputs": [],
   "source": [
    "scale_var = [\"age\",\"trestbps\",\"thalach\",\"oldpeak\"] "
   ]
  },
  {
   "cell_type": "code",
   "execution_count": 28,
   "id": "2711a562-c876-49cf-8773-75abfd7f7722",
   "metadata": {},
   "outputs": [],
   "source": [
    "X_train = scale.fit_transform(X_train,y_train)"
   ]
  },
  {
   "cell_type": "code",
   "execution_count": 29,
   "id": "6212652b-735a-4d6c-a1ba-8e35a8d026b8",
   "metadata": {},
   "outputs": [],
   "source": [
    "X_test = scale.transform(X_test)"
   ]
  },
  {
   "cell_type": "code",
   "execution_count": 31,
   "id": "7941f0b5-7580-416d-80dc-68a905dc855e",
   "metadata": {},
   "outputs": [],
   "source": [
    "# Q3. Train a random forest classifier on the training set using 100 trees and a maximum depth of 10 for each\n",
    "# tree. Use the default values for other hyperparameters."
   ]
  },
  {
   "cell_type": "code",
   "execution_count": 32,
   "id": "f580af33-d1a4-45f0-9644-a8cf3954042b",
   "metadata": {},
   "outputs": [],
   "source": [
    "from sklearn.ensemble import RandomForestClassifier"
   ]
  },
  {
   "cell_type": "code",
   "execution_count": 36,
   "id": "1b34d2b6-3210-42cc-8437-ae60f0fc9dd8",
   "metadata": {},
   "outputs": [],
   "source": [
    "clf = RandomForestClassifier(n_estimators=100,max_depth=10,random_state=42,oob_score=True)"
   ]
  },
  {
   "cell_type": "code",
   "execution_count": 37,
   "id": "64c5fa03-f368-4b9d-86a9-2cda98ba12be",
   "metadata": {},
   "outputs": [
    {
     "data": {
      "text/html": [
       "<style>#sk-container-id-3 {color: black;background-color: white;}#sk-container-id-3 pre{padding: 0;}#sk-container-id-3 div.sk-toggleable {background-color: white;}#sk-container-id-3 label.sk-toggleable__label {cursor: pointer;display: block;width: 100%;margin-bottom: 0;padding: 0.3em;box-sizing: border-box;text-align: center;}#sk-container-id-3 label.sk-toggleable__label-arrow:before {content: \"▸\";float: left;margin-right: 0.25em;color: #696969;}#sk-container-id-3 label.sk-toggleable__label-arrow:hover:before {color: black;}#sk-container-id-3 div.sk-estimator:hover label.sk-toggleable__label-arrow:before {color: black;}#sk-container-id-3 div.sk-toggleable__content {max-height: 0;max-width: 0;overflow: hidden;text-align: left;background-color: #f0f8ff;}#sk-container-id-3 div.sk-toggleable__content pre {margin: 0.2em;color: black;border-radius: 0.25em;background-color: #f0f8ff;}#sk-container-id-3 input.sk-toggleable__control:checked~div.sk-toggleable__content {max-height: 200px;max-width: 100%;overflow: auto;}#sk-container-id-3 input.sk-toggleable__control:checked~label.sk-toggleable__label-arrow:before {content: \"▾\";}#sk-container-id-3 div.sk-estimator input.sk-toggleable__control:checked~label.sk-toggleable__label {background-color: #d4ebff;}#sk-container-id-3 div.sk-label input.sk-toggleable__control:checked~label.sk-toggleable__label {background-color: #d4ebff;}#sk-container-id-3 input.sk-hidden--visually {border: 0;clip: rect(1px 1px 1px 1px);clip: rect(1px, 1px, 1px, 1px);height: 1px;margin: -1px;overflow: hidden;padding: 0;position: absolute;width: 1px;}#sk-container-id-3 div.sk-estimator {font-family: monospace;background-color: #f0f8ff;border: 1px dotted black;border-radius: 0.25em;box-sizing: border-box;margin-bottom: 0.5em;}#sk-container-id-3 div.sk-estimator:hover {background-color: #d4ebff;}#sk-container-id-3 div.sk-parallel-item::after {content: \"\";width: 100%;border-bottom: 1px solid gray;flex-grow: 1;}#sk-container-id-3 div.sk-label:hover label.sk-toggleable__label {background-color: #d4ebff;}#sk-container-id-3 div.sk-serial::before {content: \"\";position: absolute;border-left: 1px solid gray;box-sizing: border-box;top: 0;bottom: 0;left: 50%;z-index: 0;}#sk-container-id-3 div.sk-serial {display: flex;flex-direction: column;align-items: center;background-color: white;padding-right: 0.2em;padding-left: 0.2em;position: relative;}#sk-container-id-3 div.sk-item {position: relative;z-index: 1;}#sk-container-id-3 div.sk-parallel {display: flex;align-items: stretch;justify-content: center;background-color: white;position: relative;}#sk-container-id-3 div.sk-item::before, #sk-container-id-3 div.sk-parallel-item::before {content: \"\";position: absolute;border-left: 1px solid gray;box-sizing: border-box;top: 0;bottom: 0;left: 50%;z-index: -1;}#sk-container-id-3 div.sk-parallel-item {display: flex;flex-direction: column;z-index: 1;position: relative;background-color: white;}#sk-container-id-3 div.sk-parallel-item:first-child::after {align-self: flex-end;width: 50%;}#sk-container-id-3 div.sk-parallel-item:last-child::after {align-self: flex-start;width: 50%;}#sk-container-id-3 div.sk-parallel-item:only-child::after {width: 0;}#sk-container-id-3 div.sk-dashed-wrapped {border: 1px dashed gray;margin: 0 0.4em 0.5em 0.4em;box-sizing: border-box;padding-bottom: 0.4em;background-color: white;}#sk-container-id-3 div.sk-label label {font-family: monospace;font-weight: bold;display: inline-block;line-height: 1.2em;}#sk-container-id-3 div.sk-label-container {text-align: center;}#sk-container-id-3 div.sk-container {/* jupyter's `normalize.less` sets `[hidden] { display: none; }` but bootstrap.min.css set `[hidden] { display: none !important; }` so we also need the `!important` here to be able to override the default hidden behavior on the sphinx rendered scikit-learn.org. See: https://github.com/scikit-learn/scikit-learn/issues/21755 */display: inline-block !important;position: relative;}#sk-container-id-3 div.sk-text-repr-fallback {display: none;}</style><div id=\"sk-container-id-3\" class=\"sk-top-container\"><div class=\"sk-text-repr-fallback\"><pre>RandomForestClassifier(max_depth=10, oob_score=True, random_state=42)</pre><b>In a Jupyter environment, please rerun this cell to show the HTML representation or trust the notebook. <br />On GitHub, the HTML representation is unable to render, please try loading this page with nbviewer.org.</b></div><div class=\"sk-container\" hidden><div class=\"sk-item\"><div class=\"sk-estimator sk-toggleable\"><input class=\"sk-toggleable__control sk-hidden--visually\" id=\"sk-estimator-id-3\" type=\"checkbox\" checked><label for=\"sk-estimator-id-3\" class=\"sk-toggleable__label sk-toggleable__label-arrow\">RandomForestClassifier</label><div class=\"sk-toggleable__content\"><pre>RandomForestClassifier(max_depth=10, oob_score=True, random_state=42)</pre></div></div></div></div></div>"
      ],
      "text/plain": [
       "RandomForestClassifier(max_depth=10, oob_score=True, random_state=42)"
      ]
     },
     "execution_count": 37,
     "metadata": {},
     "output_type": "execute_result"
    }
   ],
   "source": [
    "clf.fit(X_train,y_train)"
   ]
  },
  {
   "cell_type": "code",
   "execution_count": 39,
   "id": "178509b6-3965-4833-bb1c-e04399e61f3b",
   "metadata": {},
   "outputs": [],
   "source": [
    "y_pred = clf.predict(X_test)"
   ]
  },
  {
   "cell_type": "code",
   "execution_count": 40,
   "id": "7ccb3b5f-4f09-45f6-b939-1ea07f10bf2a",
   "metadata": {},
   "outputs": [],
   "source": [
    "# Q4. Evaluate the performance of the model on the test set using accuracy, precision, recall, and F1 score.\n",
    "from sklearn.metrics import accuracy_score,classification_report"
   ]
  },
  {
   "cell_type": "code",
   "execution_count": 41,
   "id": "9b067ffb-39e3-4832-8df6-aa7695b8a5d5",
   "metadata": {},
   "outputs": [
    {
     "data": {
      "text/plain": [
       "0.8241758241758241"
      ]
     },
     "execution_count": 41,
     "metadata": {},
     "output_type": "execute_result"
    }
   ],
   "source": [
    "accuracy_score(y_test,y_pred)"
   ]
  },
  {
   "cell_type": "code",
   "execution_count": 43,
   "id": "fc07efce-ace5-4d62-8436-7bac8d4d28f6",
   "metadata": {},
   "outputs": [
    {
     "name": "stdout",
     "output_type": "stream",
     "text": [
      "              precision    recall  f1-score   support\n",
      "\n",
      "           0       0.80      0.80      0.80        41\n",
      "           1       0.84      0.84      0.84        50\n",
      "\n",
      "    accuracy                           0.82        91\n",
      "   macro avg       0.82      0.82      0.82        91\n",
      "weighted avg       0.82      0.82      0.82        91\n",
      "\n"
     ]
    }
   ],
   "source": [
    "print(classification_report(y_test,y_pred))"
   ]
  },
  {
   "cell_type": "code",
   "execution_count": 52,
   "id": "3313ae82-1055-4f1f-9fb8-2de397c0b202",
   "metadata": {},
   "outputs": [
    {
     "data": {
      "text/plain": [
       "[0.09071197479599746,\n",
       " 0.03504005157987269,\n",
       " 0.12691246565389042,\n",
       " 0.06743036787469972,\n",
       " 0.06965809996502259,\n",
       " 0.0126611998692545,\n",
       " 0.015943452441920622,\n",
       " 0.11480161716971192,\n",
       " 0.07055326233331001,\n",
       " 0.11172191350562372,\n",
       " 0.05000324667344324,\n",
       " 0.13090504728224753,\n",
       " 0.10365730085500555]"
      ]
     },
     "execution_count": 52,
     "metadata": {},
     "output_type": "execute_result"
    }
   ],
   "source": [
    "# Q5. Use the feature importance scores to identify the top 5 most important features in predicting heart\n",
    "clf.feature_importances_"
   ]
  },
  {
   "cell_type": "code",
   "execution_count": 58,
   "id": "b561b8b8-4afc-4254-b029-ca7fcbe9be06",
   "metadata": {},
   "outputs": [
    {
     "data": {
      "image/png": "[encoded data removed]",
      "text/plain": [
       "<Figure size 640x480 with 1 Axes>"
      ]
     },
     "metadata": {},
     "output_type": "display_data"
    }
   ],
   "source": [
    "import numpy as np\n",
    "import matplotlib.pyplot as plt\n",
    "importances = clf.feature_importances_\n",
    "indices = np.argsort(importances)[::-1]\n",
    "features = X.columns\n",
    "\n",
    "top_n = 5\n",
    "top_features = features[indices][:top_n]\n",
    "top_importances = importances[indices][:top_n]\n",
    "\n",
    "plt.bar(range(top_n), top_importances, tick_label=top_features)\n",
    "plt.title('Top 5 Most Important Features')\n",
    "plt.show()\n"
   ]
  },
  {
   "cell_type": "code",
   "execution_count": 59,
   "id": "a381a0bb-5dbd-4c1e-b756-00bff698f39a",
   "metadata": {},
   "outputs": [],
   "source": [
    "# Q6. Tune the hyperparameters of the random forest classifier using grid search or random search. Try\n",
    "# different values of the number of trees, maximum depth, minimum samples split, and minimum samples\n",
    "# leaf. Use 5-fold cross-validation to evaluate the performance of each set of hyperparameters."
   ]
  },
  {
   "cell_type": "code",
   "execution_count": 60,
   "id": "376cfe91-96a9-4463-bc83-3d589527f6ca",
   "metadata": {},
   "outputs": [],
   "source": [
    "from sklearn.model_selection import GridSearchCV"
   ]
  },
  {
   "cell_type": "code",
   "execution_count": 61,
   "id": "57c3050a-0555-4403-a727-2a9f8163831a",
   "metadata": {},
   "outputs": [],
   "source": [
    "param_grid = {\n",
    "    'n_estimators': [50, 100, 200],\n",
    "    'max_depth': [5, 10, 15],\n",
    "    'min_samples_split': [2, 5, 10],\n",
    "    'min_samples_leaf': [1, 2, 4]\n",
    "}"
   ]
  },
  {
   "cell_type": "code",
   "execution_count": 66,
   "id": "087378d4-f4de-4b87-90ba-5493a5523d0b",
   "metadata": {},
   "outputs": [],
   "source": [
    "grid = GridSearchCV(clf,param_grid=param_grid,cv = 5,scoring = \"accuracy\",verbose= 3)"
   ]
  },
  {
   "cell_type": "code",
   "execution_count": 67,
   "id": "e1794c68-49e5-4490-ad8d-d76d65ff7364",
   "metadata": {},
   "outputs": [
    {
     "name": "stdout",
     "output_type": "stream",
     "text": [
      "Fitting 5 folds for each of 81 candidates, totalling 405 fits\n",
      "[CV 1/5] END max_depth=5, min_samples_leaf=1, min_samples_split=2, n_estimators=50;, score=0.884 total time=   0.1s\n",
      "[CV 2/5] END max_depth=5, min_samples_leaf=1, min_samples_split=2, n_estimators=50;, score=0.860 total time=   0.1s\n",
      "[CV 3/5] END max_depth=5, min_samples_leaf=1, min_samples_split=2, n_estimators=50;, score=0.714 total time=   0.1s\n",
      "[CV 4/5] END max_depth=5, min_samples_leaf=1, min_samples_split=2, n_estimators=50;, score=0.857 total time=   0.1s\n",
      "[CV 5/5] END max_depth=5, min_samples_leaf=1, min_samples_split=2, n_estimators=50;, score=0.786 total time=   0.1s\n",
      "[CV 1/5] END max_depth=5, min_samples_leaf=1, min_samples_split=2, n_estimators=100;, score=0.884 total time=   0.2s\n",
      "[CV 2/5] END max_depth=5, min_samples_leaf=1, min_samples_split=2, n_estimators=100;, score=0.860 total time=   0.2s\n",
      "[CV 3/5] END max_depth=5, min_samples_leaf=1, min_samples_split=2, n_estimators=100;, score=0.738 total time=   0.2s\n",
      "[CV 4/5] END max_depth=5, min_samples_leaf=1, min_samples_split=2, n_estimators=100;, score=0.881 total time=   0.2s\n",
      "[CV 5/5] END max_depth=5, min_samples_leaf=1, min_samples_split=2, n_estimators=100;, score=0.786 total time=   0.2s\n",
      "[CV 1/5] END max_depth=5, min_samples_leaf=1, min_samples_split=2, n_estimators=200;, score=0.884 total time=   0.4s\n",
      "[CV 2/5] END max_depth=5, min_samples_leaf=1, min_samples_split=2, n_estimators=200;, score=0.837 total time=   0.4s\n",
      "[CV 3/5] END max_depth=5, min_samples_leaf=1, min_samples_split=2, n_estimators=200;, score=0.690 total time=   0.4s\n",
      "[CV 4/5] END max_depth=5, min_samples_leaf=1, min_samples_split=2, n_estimators=200;, score=0.905 total time=   0.4s\n",
      "[CV 5/5] END max_depth=5, min_samples_leaf=1, min_samples_split=2, n_estimators=200;, score=0.738 total time=   0.4s\n",
      "[CV 1/5] END max_depth=5, min_samples_leaf=1, min_samples_split=5, n_estimators=50;, score=0.907 total time=   0.1s\n",
      "[CV 2/5] END max_depth=5, min_samples_leaf=1, min_samples_split=5, n_estimators=50;, score=0.860 total time=   0.1s\n",
      "[CV 3/5] END max_depth=5, min_samples_leaf=1, min_samples_split=5, n_estimators=50;, score=0.738 total time=   0.1s\n",
      "[CV 4/5] END max_depth=5, min_samples_leaf=1, min_samples_split=5, n_estimators=50;, score=0.881 total time=   0.1s\n",
      "[CV 5/5] END max_depth=5, min_samples_leaf=1, min_samples_split=5, n_estimators=50;, score=0.762 total time=   0.1s\n",
      "[CV 1/5] END max_depth=5, min_samples_leaf=1, min_samples_split=5, n_estimators=100;, score=0.884 total time=   0.2s\n",
      "[CV 2/5] END max_depth=5, min_samples_leaf=1, min_samples_split=5, n_estimators=100;, score=0.860 total time=   0.2s\n",
      "[CV 3/5] END max_depth=5, min_samples_leaf=1, min_samples_split=5, n_estimators=100;, score=0.714 total time=   0.2s\n",
      "[CV 4/5] END max_depth=5, min_samples_leaf=1, min_samples_split=5, n_estimators=100;, score=0.881 total time=   0.2s\n",
      "[CV 5/5] END max_depth=5, min_samples_leaf=1, min_samples_split=5, n_estimators=100;, score=0.762 total time=   0.2s\n",
      "[CV 1/5] END max_depth=5, min_samples_leaf=1, min_samples_split=5, n_estimators=200;, score=0.884 total time=   0.4s\n",
      "[CV 2/5] END max_depth=5, min_samples_leaf=1, min_samples_split=5, n_estimators=200;, score=0.837 total time=   0.4s\n",
      "[CV 3/5] END max_depth=5, min_samples_leaf=1, min_samples_split=5, n_estimators=200;, score=0.738 total time=   0.4s\n",
      "[CV 4/5] END max_depth=5, min_samples_leaf=1, min_samples_split=5, n_estimators=200;, score=0.905 total time=   0.4s\n",
      "[CV 5/5] END max_depth=5, min_samples_leaf=1, min_samples_split=5, n_estimators=200;, score=0.738 total time=   0.4s\n",
      "[CV 1/5] END max_depth=5, min_samples_leaf=1, min_samples_split=10, n_estimators=50;, score=0.860 total time=   0.1s\n",
      "[CV 2/5] END max_depth=5, min_samples_leaf=1, min_samples_split=10, n_estimators=50;, score=0.860 total time=   0.1s\n",
      "[CV 3/5] END max_depth=5, min_samples_leaf=1, min_samples_split=10, n_estimators=50;, score=0.738 total time=   0.1s\n",
      "[CV 4/5] END max_depth=5, min_samples_leaf=1, min_samples_split=10, n_estimators=50;, score=0.929 total time=   0.1s\n",
      "[CV 5/5] END max_depth=5, min_samples_leaf=1, min_samples_split=10, n_estimators=50;, score=0.762 total time=   0.1s\n",
      "[CV 1/5] END max_depth=5, min_samples_leaf=1, min_samples_split=10, n_estimators=100;, score=0.837 total time=   0.2s\n",
      "[CV 2/5] END max_depth=5, min_samples_leaf=1, min_samples_split=10, n_estimators=100;, score=0.860 total time=   0.2s\n",
      "[CV 3/5] END max_depth=5, min_samples_leaf=1, min_samples_split=10, n_estimators=100;, score=0.738 total time=   0.2s\n",
      "[CV 4/5] END max_depth=5, min_samples_leaf=1, min_samples_split=10, n_estimators=100;, score=0.881 total time=   0.2s\n",
      "[CV 5/5] END max_depth=5, min_samples_leaf=1, min_samples_split=10, n_estimators=100;, score=0.738 total time=   0.2s\n",
      "[CV 1/5] END max_depth=5, min_samples_leaf=1, min_samples_split=10, n_estimators=200;, score=0.884 total time=   0.4s\n",
      "[CV 2/5] END max_depth=5, min_samples_leaf=1, min_samples_split=10, n_estimators=200;, score=0.837 total time=   0.4s\n",
      "[CV 3/5] END max_depth=5, min_samples_leaf=1, min_samples_split=10, n_estimators=200;, score=0.738 total time=   0.4s\n",
      "[CV 4/5] END max_depth=5, min_samples_leaf=1, min_samples_split=10, n_estimators=200;, score=0.905 total time=   0.4s\n",
      "[CV 5/5] END max_depth=5, min_samples_leaf=1, min_samples_split=10, n_estimators=200;, score=0.762 total time=   0.4s\n",
      "[CV 1/5] END max_depth=5, min_samples_leaf=2, min_samples_split=2, n_estimators=50;, score=0.884 total time=   0.1s\n",
      "[CV 2/5] END max_depth=5, min_samples_leaf=2, min_samples_split=2, n_estimators=50;, score=0.860 total time=   0.1s\n",
      "[CV 3/5] END max_depth=5, min_samples_leaf=2, min_samples_split=2, n_estimators=50;, score=0.738 total time=   0.1s\n",
      "[CV 4/5] END max_depth=5, min_samples_leaf=2, min_samples_split=2, n_estimators=50;, score=0.881 total time=   0.1s\n",
      "[CV 5/5] END max_depth=5, min_samples_leaf=2, min_samples_split=2, n_estimators=50;, score=0.786 total time=   0.1s\n",
      "[CV 1/5] END max_depth=5, min_samples_leaf=2, min_samples_split=2, n_estimators=100;, score=0.860 total time=   0.2s\n",
      "[CV 2/5] END max_depth=5, min_samples_leaf=2, min_samples_split=2, n_estimators=100;, score=0.860 total time=   0.2s\n",
      "[CV 3/5] END max_depth=5, min_samples_leaf=2, min_samples_split=2, n_estimators=100;, score=0.762 total time=   0.2s\n",
      "[CV 4/5] END max_depth=5, min_samples_leaf=2, min_samples_split=2, n_estimators=100;, score=0.905 total time=   0.2s\n",
      "[CV 5/5] END max_depth=5, min_samples_leaf=2, min_samples_split=2, n_estimators=100;, score=0.810 total time=   0.2s\n",
      "[CV 1/5] END max_depth=5, min_samples_leaf=2, min_samples_split=2, n_estimators=200;, score=0.884 total time=   0.4s\n",
      "[CV 2/5] END max_depth=5, min_samples_leaf=2, min_samples_split=2, n_estimators=200;, score=0.837 total time=   0.4s\n",
      "[CV 3/5] END max_depth=5, min_samples_leaf=2, min_samples_split=2, n_estimators=200;, score=0.714 total time=   0.4s\n",
      "[CV 4/5] END max_depth=5, min_samples_leaf=2, min_samples_split=2, n_estimators=200;, score=0.905 total time=   0.4s\n",
      "[CV 5/5] END max_depth=5, min_samples_leaf=2, min_samples_split=2, n_estimators=200;, score=0.738 total time=   0.4s\n",
      "[CV 1/5] END max_depth=5, min_samples_leaf=2, min_samples_split=5, n_estimators=50;, score=0.884 total time=   0.1s\n",
      "[CV 2/5] END max_depth=5, min_samples_leaf=2, min_samples_split=5, n_estimators=50;, score=0.860 total time=   0.1s\n",
      "[CV 3/5] END max_depth=5, min_samples_leaf=2, min_samples_split=5, n_estimators=50;, score=0.738 total time=   0.1s\n",
      "[CV 4/5] END max_depth=5, min_samples_leaf=2, min_samples_split=5, n_estimators=50;, score=0.905 total time=   0.1s\n",
      "[CV 5/5] END max_depth=5, min_samples_leaf=2, min_samples_split=5, n_estimators=50;, score=0.786 total time=   0.1s\n",
      "[CV 1/5] END max_depth=5, min_samples_leaf=2, min_samples_split=5, n_estimators=100;, score=0.884 total time=   0.2s\n",
      "[CV 2/5] END max_depth=5, min_samples_leaf=2, min_samples_split=5, n_estimators=100;, score=0.860 total time=   0.2s\n",
      "[CV 3/5] END max_depth=5, min_samples_leaf=2, min_samples_split=5, n_estimators=100;, score=0.762 total time=   0.2s\n",
      "[CV 4/5] END max_depth=5, min_samples_leaf=2, min_samples_split=5, n_estimators=100;, score=0.905 total time=   0.2s\n",
      "[CV 5/5] END max_depth=5, min_samples_leaf=2, min_samples_split=5, n_estimators=100;, score=0.786 total time=   0.2s\n",
      "[CV 1/5] END max_depth=5, min_samples_leaf=2, min_samples_split=5, n_estimators=200;, score=0.884 total time=   0.4s\n",
      "[CV 2/5] END max_depth=5, min_samples_leaf=2, min_samples_split=5, n_estimators=200;, score=0.837 total time=   0.4s\n",
      "[CV 3/5] END max_depth=5, min_samples_leaf=2, min_samples_split=5, n_estimators=200;, score=0.714 total time=   0.4s\n",
      "[CV 4/5] END max_depth=5, min_samples_leaf=2, min_samples_split=5, n_estimators=200;, score=0.905 total time=   0.4s\n",
      "[CV 5/5] END max_depth=5, min_samples_leaf=2, min_samples_split=5, n_estimators=200;, score=0.738 total time=   0.4s\n",
      "[CV 1/5] END max_depth=5, min_samples_leaf=2, min_samples_split=10, n_estimators=50;, score=0.884 total time=   0.1s\n",
      "[CV 2/5] END max_depth=5, min_samples_leaf=2, min_samples_split=10, n_estimators=50;, score=0.860 total time=   0.1s\n",
      "[CV 3/5] END max_depth=5, min_samples_leaf=2, min_samples_split=10, n_estimators=50;, score=0.738 total time=   0.1s\n",
      "[CV 4/5] END max_depth=5, min_samples_leaf=2, min_samples_split=10, n_estimators=50;, score=0.905 total time=   0.1s\n",
      "[CV 5/5] END max_depth=5, min_samples_leaf=2, min_samples_split=10, n_estimators=50;, score=0.762 total time=   0.1s\n",
      "[CV 1/5] END max_depth=5, min_samples_leaf=2, min_samples_split=10, n_estimators=100;, score=0.860 total time=   0.2s\n",
      "[CV 2/5] END max_depth=5, min_samples_leaf=2, min_samples_split=10, n_estimators=100;, score=0.860 total time=   0.2s\n",
      "[CV 3/5] END max_depth=5, min_samples_leaf=2, min_samples_split=10, n_estimators=100;, score=0.714 total time=   0.2s\n",
      "[CV 4/5] END max_depth=5, min_samples_leaf=2, min_samples_split=10, n_estimators=100;, score=0.905 total time=   0.2s\n",
      "[CV 5/5] END max_depth=5, min_samples_leaf=2, min_samples_split=10, n_estimators=100;, score=0.762 total time=   0.2s\n",
      "[CV 1/5] END max_depth=5, min_samples_leaf=2, min_samples_split=10, n_estimators=200;, score=0.884 total time=   0.4s\n",
      "[CV 2/5] END max_depth=5, min_samples_leaf=2, min_samples_split=10, n_estimators=200;, score=0.837 total time=   0.4s\n",
      "[CV 3/5] END max_depth=5, min_samples_leaf=2, min_samples_split=10, n_estimators=200;, score=0.714 total time=   0.4s\n",
      "[CV 4/5] END max_depth=5, min_samples_leaf=2, min_samples_split=10, n_estimators=200;, score=0.905 total time=   0.4s\n",
      "[CV 5/5] END max_depth=5, min_samples_leaf=2, min_samples_split=10, n_estimators=200;, score=0.762 total time=   0.4s\n",
      "[CV 1/5] END max_depth=5, min_samples_leaf=4, min_samples_split=2, n_estimators=50;, score=0.884 total time=   0.1s\n",
      "[CV 2/5] END max_depth=5, min_samples_leaf=4, min_samples_split=2, n_estimators=50;, score=0.860 total time=   0.1s\n",
      "[CV 3/5] END max_depth=5, min_samples_leaf=4, min_samples_split=2, n_estimators=50;, score=0.738 total time=   0.1s\n",
      "[CV 4/5] END max_depth=5, min_samples_leaf=4, min_samples_split=2, n_estimators=50;, score=0.929 total time=   0.1s\n",
      "[CV 5/5] END max_depth=5, min_samples_leaf=4, min_samples_split=2, n_estimators=50;, score=0.762 total time=   0.1s\n",
      "[CV 1/5] END max_depth=5, min_samples_leaf=4, min_samples_split=2, n_estimators=100;, score=0.884 total time=   0.2s\n",
      "[CV 2/5] END max_depth=5, min_samples_leaf=4, min_samples_split=2, n_estimators=100;, score=0.860 total time=   0.2s\n",
      "[CV 3/5] END max_depth=5, min_samples_leaf=4, min_samples_split=2, n_estimators=100;, score=0.690 total time=   0.2s\n",
      "[CV 4/5] END max_depth=5, min_samples_leaf=4, min_samples_split=2, n_estimators=100;, score=0.929 total time=   0.2s\n",
      "[CV 5/5] END max_depth=5, min_samples_leaf=4, min_samples_split=2, n_estimators=100;, score=0.786 total time=   0.2s\n",
      "[CV 1/5] END max_depth=5, min_samples_leaf=4, min_samples_split=2, n_estimators=200;, score=0.884 total time=   0.4s\n",
      "[CV 2/5] END max_depth=5, min_samples_leaf=4, min_samples_split=2, n_estimators=200;, score=0.837 total time=   0.4s\n",
      "[CV 3/5] END max_depth=5, min_samples_leaf=4, min_samples_split=2, n_estimators=200;, score=0.762 total time=   0.4s\n",
      "[CV 4/5] END max_depth=5, min_samples_leaf=4, min_samples_split=2, n_estimators=200;, score=0.905 total time=   0.4s\n",
      "[CV 5/5] END max_depth=5, min_samples_leaf=4, min_samples_split=2, n_estimators=200;, score=0.786 total time=   0.4s\n",
      "[CV 1/5] END max_depth=5, min_samples_leaf=4, min_samples_split=5, n_estimators=50;, score=0.884 total time=   0.1s\n",
      "[CV 2/5] END max_depth=5, min_samples_leaf=4, min_samples_split=5, n_estimators=50;, score=0.860 total time=   0.1s\n",
      "[CV 3/5] END max_depth=5, min_samples_leaf=4, min_samples_split=5, n_estimators=50;, score=0.738 total time=   0.1s\n",
      "[CV 4/5] END max_depth=5, min_samples_leaf=4, min_samples_split=5, n_estimators=50;, score=0.929 total time=   0.1s\n",
      "[CV 5/5] END max_depth=5, min_samples_leaf=4, min_samples_split=5, n_estimators=50;, score=0.762 total time=   0.1s\n",
      "[CV 1/5] END max_depth=5, min_samples_leaf=4, min_samples_split=5, n_estimators=100;, score=0.884 total time=   0.2s\n",
      "[CV 2/5] END max_depth=5, min_samples_leaf=4, min_samples_split=5, n_estimators=100;, score=0.860 total time=   0.2s\n",
      "[CV 3/5] END max_depth=5, min_samples_leaf=4, min_samples_split=5, n_estimators=100;, score=0.690 total time=   0.2s\n",
      "[CV 4/5] END max_depth=5, min_samples_leaf=4, min_samples_split=5, n_estimators=100;, score=0.929 total time=   0.2s\n",
      "[CV 5/5] END max_depth=5, min_samples_leaf=4, min_samples_split=5, n_estimators=100;, score=0.786 total time=   0.2s\n",
      "[CV 1/5] END max_depth=5, min_samples_leaf=4, min_samples_split=5, n_estimators=200;, score=0.884 total time=   0.4s\n",
      "[CV 2/5] END max_depth=5, min_samples_leaf=4, min_samples_split=5, n_estimators=200;, score=0.837 total time=   0.4s\n",
      "[CV 3/5] END max_depth=5, min_samples_leaf=4, min_samples_split=5, n_estimators=200;, score=0.762 total time=   0.4s\n",
      "[CV 4/5] END max_depth=5, min_samples_leaf=4, min_samples_split=5, n_estimators=200;, score=0.905 total time=   0.4s\n",
      "[CV 5/5] END max_depth=5, min_samples_leaf=4, min_samples_split=5, n_estimators=200;, score=0.786 total time=   0.4s\n",
      "[CV 1/5] END max_depth=5, min_samples_leaf=4, min_samples_split=10, n_estimators=50;, score=0.860 total time=   0.1s\n",
      "[CV 2/5] END max_depth=5, min_samples_leaf=4, min_samples_split=10, n_estimators=50;, score=0.860 total time=   0.1s\n",
      "[CV 3/5] END max_depth=5, min_samples_leaf=4, min_samples_split=10, n_estimators=50;, score=0.714 total time=   0.1s\n",
      "[CV 4/5] END max_depth=5, min_samples_leaf=4, min_samples_split=10, n_estimators=50;, score=0.905 total time=   0.1s\n",
      "[CV 5/5] END max_depth=5, min_samples_leaf=4, min_samples_split=10, n_estimators=50;, score=0.786 total time=   0.1s\n",
      "[CV 1/5] END max_depth=5, min_samples_leaf=4, min_samples_split=10, n_estimators=100;, score=0.907 total time=   0.2s\n",
      "[CV 2/5] END max_depth=5, min_samples_leaf=4, min_samples_split=10, n_estimators=100;, score=0.860 total time=   0.2s\n",
      "[CV 3/5] END max_depth=5, min_samples_leaf=4, min_samples_split=10, n_estimators=100;, score=0.714 total time=   0.2s\n",
      "[CV 4/5] END max_depth=5, min_samples_leaf=4, min_samples_split=10, n_estimators=100;, score=0.929 total time=   0.2s\n",
      "[CV 5/5] END max_depth=5, min_samples_leaf=4, min_samples_split=10, n_estimators=100;, score=0.786 total time=   0.2s\n",
      "[CV 1/5] END max_depth=5, min_samples_leaf=4, min_samples_split=10, n_estimators=200;, score=0.884 total time=   0.4s\n",
      "[CV 2/5] END max_depth=5, min_samples_leaf=4, min_samples_split=10, n_estimators=200;, score=0.837 total time=   0.4s\n",
      "[CV 3/5] END max_depth=5, min_samples_leaf=4, min_samples_split=10, n_estimators=200;, score=0.738 total time=   0.4s\n",
      "[CV 4/5] END max_depth=5, min_samples_leaf=4, min_samples_split=10, n_estimators=200;, score=0.905 total time=   0.4s\n",
      "[CV 5/5] END max_depth=5, min_samples_leaf=4, min_samples_split=10, n_estimators=200;, score=0.786 total time=   0.4s\n",
      "[CV 1/5] END max_depth=10, min_samples_leaf=1, min_samples_split=2, n_estimators=50;, score=0.884 total time=   0.1s\n",
      "[CV 2/5] END max_depth=10, min_samples_leaf=1, min_samples_split=2, n_estimators=50;, score=0.860 total time=   0.1s\n",
      "[CV 3/5] END max_depth=10, min_samples_leaf=1, min_samples_split=2, n_estimators=50;, score=0.714 total time=   0.1s\n",
      "[CV 4/5] END max_depth=10, min_samples_leaf=1, min_samples_split=2, n_estimators=50;, score=0.905 total time=   0.1s\n",
      "[CV 5/5] END max_depth=10, min_samples_leaf=1, min_samples_split=2, n_estimators=50;, score=0.762 total time=   0.1s\n",
      "[CV 1/5] END max_depth=10, min_samples_leaf=1, min_samples_split=2, n_estimators=100;, score=0.860 total time=   0.2s\n",
      "[CV 2/5] END max_depth=10, min_samples_leaf=1, min_samples_split=2, n_estimators=100;, score=0.860 total time=   0.2s\n",
      "[CV 3/5] END max_depth=10, min_samples_leaf=1, min_samples_split=2, n_estimators=100;, score=0.738 total time=   0.2s\n",
      "[CV 4/5] END max_depth=10, min_samples_leaf=1, min_samples_split=2, n_estimators=100;, score=0.905 total time=   0.2s\n",
      "[CV 5/5] END max_depth=10, min_samples_leaf=1, min_samples_split=2, n_estimators=100;, score=0.786 total time=   0.2s\n",
      "[CV 1/5] END max_depth=10, min_samples_leaf=1, min_samples_split=2, n_estimators=200;, score=0.884 total time=   0.4s\n",
      "[CV 2/5] END max_depth=10, min_samples_leaf=1, min_samples_split=2, n_estimators=200;, score=0.860 total time=   0.4s\n",
      "[CV 3/5] END max_depth=10, min_samples_leaf=1, min_samples_split=2, n_estimators=200;, score=0.762 total time=   0.4s\n",
      "[CV 4/5] END max_depth=10, min_samples_leaf=1, min_samples_split=2, n_estimators=200;, score=0.905 total time=   0.4s\n",
      "[CV 5/5] END max_depth=10, min_samples_leaf=1, min_samples_split=2, n_estimators=200;, score=0.786 total time=   0.4s\n",
      "[CV 1/5] END max_depth=10, min_samples_leaf=1, min_samples_split=5, n_estimators=50;, score=0.837 total time=   0.1s\n",
      "[CV 2/5] END max_depth=10, min_samples_leaf=1, min_samples_split=5, n_estimators=50;, score=0.837 total time=   0.1s\n",
      "[CV 3/5] END max_depth=10, min_samples_leaf=1, min_samples_split=5, n_estimators=50;, score=0.738 total time=   0.1s\n",
      "[CV 4/5] END max_depth=10, min_samples_leaf=1, min_samples_split=5, n_estimators=50;, score=0.857 total time=   0.1s\n",
      "[CV 5/5] END max_depth=10, min_samples_leaf=1, min_samples_split=5, n_estimators=50;, score=0.738 total time=   0.1s\n",
      "[CV 1/5] END max_depth=10, min_samples_leaf=1, min_samples_split=5, n_estimators=100;, score=0.837 total time=   0.2s\n",
      "[CV 2/5] END max_depth=10, min_samples_leaf=1, min_samples_split=5, n_estimators=100;, score=0.837 total time=   0.2s\n",
      "[CV 3/5] END max_depth=10, min_samples_leaf=1, min_samples_split=5, n_estimators=100;, score=0.738 total time=   0.2s\n",
      "[CV 4/5] END max_depth=10, min_samples_leaf=1, min_samples_split=5, n_estimators=100;, score=0.857 total time=   0.2s\n",
      "[CV 5/5] END max_depth=10, min_samples_leaf=1, min_samples_split=5, n_estimators=100;, score=0.786 total time=   0.2s\n",
      "[CV 1/5] END max_depth=10, min_samples_leaf=1, min_samples_split=5, n_estimators=200;, score=0.837 total time=   0.4s\n",
      "[CV 2/5] END max_depth=10, min_samples_leaf=1, min_samples_split=5, n_estimators=200;, score=0.837 total time=   0.4s\n",
      "[CV 3/5] END max_depth=10, min_samples_leaf=1, min_samples_split=5, n_estimators=200;, score=0.786 total time=   0.4s\n",
      "[CV 4/5] END max_depth=10, min_samples_leaf=1, min_samples_split=5, n_estimators=200;, score=0.857 total time=   0.4s\n",
      "[CV 5/5] END max_depth=10, min_samples_leaf=1, min_samples_split=5, n_estimators=200;, score=0.738 total time=   0.4s\n",
      "[CV 1/5] END max_depth=10, min_samples_leaf=1, min_samples_split=10, n_estimators=50;, score=0.860 total time=   0.1s\n",
      "[CV 2/5] END max_depth=10, min_samples_leaf=1, min_samples_split=10, n_estimators=50;, score=0.860 total time=   0.1s\n",
      "[CV 3/5] END max_depth=10, min_samples_leaf=1, min_samples_split=10, n_estimators=50;, score=0.738 total time=   0.1s\n",
      "[CV 4/5] END max_depth=10, min_samples_leaf=1, min_samples_split=10, n_estimators=50;, score=0.881 total time=   0.1s\n",
      "[CV 5/5] END max_depth=10, min_samples_leaf=1, min_samples_split=10, n_estimators=50;, score=0.762 total time=   0.1s\n",
      "[CV 1/5] END max_depth=10, min_samples_leaf=1, min_samples_split=10, n_estimators=100;, score=0.884 total time=   0.2s\n",
      "[CV 2/5] END max_depth=10, min_samples_leaf=1, min_samples_split=10, n_estimators=100;, score=0.860 total time=   0.2s\n",
      "[CV 3/5] END max_depth=10, min_samples_leaf=1, min_samples_split=10, n_estimators=100;, score=0.690 total time=   0.2s\n",
      "[CV 4/5] END max_depth=10, min_samples_leaf=1, min_samples_split=10, n_estimators=100;, score=0.857 total time=   0.2s\n",
      "[CV 5/5] END max_depth=10, min_samples_leaf=1, min_samples_split=10, n_estimators=100;, score=0.762 total time=   0.2s\n",
      "[CV 1/5] END max_depth=10, min_samples_leaf=1, min_samples_split=10, n_estimators=200;, score=0.884 total time=   0.4s\n",
      "[CV 2/5] END max_depth=10, min_samples_leaf=1, min_samples_split=10, n_estimators=200;, score=0.837 total time=   0.4s\n",
      "[CV 3/5] END max_depth=10, min_samples_leaf=1, min_samples_split=10, n_estimators=200;, score=0.690 total time=   0.4s\n",
      "[CV 4/5] END max_depth=10, min_samples_leaf=1, min_samples_split=10, n_estimators=200;, score=0.857 total time=   0.4s\n",
      "[CV 5/5] END max_depth=10, min_samples_leaf=1, min_samples_split=10, n_estimators=200;, score=0.762 total time=   0.4s\n",
      "[CV 1/5] END max_depth=10, min_samples_leaf=2, min_samples_split=2, n_estimators=50;, score=0.930 total time=   0.1s\n",
      "[CV 2/5] END max_depth=10, min_samples_leaf=2, min_samples_split=2, n_estimators=50;, score=0.860 total time=   0.1s\n",
      "[CV 3/5] END max_depth=10, min_samples_leaf=2, min_samples_split=2, n_estimators=50;, score=0.738 total time=   0.1s\n",
      "[CV 4/5] END max_depth=10, min_samples_leaf=2, min_samples_split=2, n_estimators=50;, score=0.881 total time=   0.1s\n",
      "[CV 5/5] END max_depth=10, min_samples_leaf=2, min_samples_split=2, n_estimators=50;, score=0.738 total time=   0.1s\n",
      "[CV 1/5] END max_depth=10, min_samples_leaf=2, min_samples_split=2, n_estimators=100;, score=0.860 total time=   0.2s\n",
      "[CV 2/5] END max_depth=10, min_samples_leaf=2, min_samples_split=2, n_estimators=100;, score=0.860 total time=   0.2s\n",
      "[CV 3/5] END max_depth=10, min_samples_leaf=2, min_samples_split=2, n_estimators=100;, score=0.786 total time=   0.2s\n",
      "[CV 4/5] END max_depth=10, min_samples_leaf=2, min_samples_split=2, n_estimators=100;, score=0.905 total time=   0.2s\n",
      "[CV 5/5] END max_depth=10, min_samples_leaf=2, min_samples_split=2, n_estimators=100;, score=0.762 total time=   0.2s\n",
      "[CV 1/5] END max_depth=10, min_samples_leaf=2, min_samples_split=2, n_estimators=200;, score=0.860 total time=   0.4s\n",
      "[CV 2/5] END max_depth=10, min_samples_leaf=2, min_samples_split=2, n_estimators=200;, score=0.837 total time=   0.4s\n",
      "[CV 3/5] END max_depth=10, min_samples_leaf=2, min_samples_split=2, n_estimators=200;, score=0.738 total time=   0.4s\n",
      "[CV 4/5] END max_depth=10, min_samples_leaf=2, min_samples_split=2, n_estimators=200;, score=0.881 total time=   0.4s\n",
      "[CV 5/5] END max_depth=10, min_samples_leaf=2, min_samples_split=2, n_estimators=200;, score=0.762 total time=   0.4s\n",
      "[CV 1/5] END max_depth=10, min_samples_leaf=2, min_samples_split=5, n_estimators=50;, score=0.884 total time=   0.1s\n",
      "[CV 2/5] END max_depth=10, min_samples_leaf=2, min_samples_split=5, n_estimators=50;, score=0.837 total time=   0.1s\n",
      "[CV 3/5] END max_depth=10, min_samples_leaf=2, min_samples_split=5, n_estimators=50;, score=0.714 total time=   0.1s\n",
      "[CV 4/5] END max_depth=10, min_samples_leaf=2, min_samples_split=5, n_estimators=50;, score=0.857 total time=   0.1s\n",
      "[CV 5/5] END max_depth=10, min_samples_leaf=2, min_samples_split=5, n_estimators=50;, score=0.786 total time=   0.1s\n",
      "[CV 1/5] END max_depth=10, min_samples_leaf=2, min_samples_split=5, n_estimators=100;, score=0.837 total time=   0.2s\n",
      "[CV 2/5] END max_depth=10, min_samples_leaf=2, min_samples_split=5, n_estimators=100;, score=0.860 total time=   0.2s\n",
      "[CV 3/5] END max_depth=10, min_samples_leaf=2, min_samples_split=5, n_estimators=100;, score=0.786 total time=   0.2s\n",
      "[CV 4/5] END max_depth=10, min_samples_leaf=2, min_samples_split=5, n_estimators=100;, score=0.857 total time=   0.2s\n",
      "[CV 5/5] END max_depth=10, min_samples_leaf=2, min_samples_split=5, n_estimators=100;, score=0.762 total time=   0.2s\n",
      "[CV 1/5] END max_depth=10, min_samples_leaf=2, min_samples_split=5, n_estimators=200;, score=0.884 total time=   0.4s\n",
      "[CV 2/5] END max_depth=10, min_samples_leaf=2, min_samples_split=5, n_estimators=200;, score=0.837 total time=   0.4s\n",
      "[CV 3/5] END max_depth=10, min_samples_leaf=2, min_samples_split=5, n_estimators=200;, score=0.714 total time=   0.4s\n",
      "[CV 4/5] END max_depth=10, min_samples_leaf=2, min_samples_split=5, n_estimators=200;, score=0.857 total time=   0.4s\n",
      "[CV 5/5] END max_depth=10, min_samples_leaf=2, min_samples_split=5, n_estimators=200;, score=0.738 total time=   0.4s\n",
      "[CV 1/5] END max_depth=10, min_samples_leaf=2, min_samples_split=10, n_estimators=50;, score=0.837 total time=   0.1s\n",
      "[CV 2/5] END max_depth=10, min_samples_leaf=2, min_samples_split=10, n_estimators=50;, score=0.884 total time=   0.1s\n",
      "[CV 3/5] END max_depth=10, min_samples_leaf=2, min_samples_split=10, n_estimators=50;, score=0.714 total time=   0.1s\n",
      "[CV 4/5] END max_depth=10, min_samples_leaf=2, min_samples_split=10, n_estimators=50;, score=0.881 total time=   0.1s\n",
      "[CV 5/5] END max_depth=10, min_samples_leaf=2, min_samples_split=10, n_estimators=50;, score=0.762 total time=   0.1s\n",
      "[CV 1/5] END max_depth=10, min_samples_leaf=2, min_samples_split=10, n_estimators=100;, score=0.884 total time=   0.2s\n",
      "[CV 2/5] END max_depth=10, min_samples_leaf=2, min_samples_split=10, n_estimators=100;, score=0.860 total time=   0.2s\n",
      "[CV 3/5] END max_depth=10, min_samples_leaf=2, min_samples_split=10, n_estimators=100;, score=0.714 total time=   0.2s\n",
      "[CV 4/5] END max_depth=10, min_samples_leaf=2, min_samples_split=10, n_estimators=100;, score=0.929 total time=   0.2s\n",
      "[CV 5/5] END max_depth=10, min_samples_leaf=2, min_samples_split=10, n_estimators=100;, score=0.762 total time=   0.2s\n",
      "[CV 1/5] END max_depth=10, min_samples_leaf=2, min_samples_split=10, n_estimators=200;, score=0.884 total time=   0.4s\n",
      "[CV 2/5] END max_depth=10, min_samples_leaf=2, min_samples_split=10, n_estimators=200;, score=0.837 total time=   0.4s\n",
      "[CV 3/5] END max_depth=10, min_samples_leaf=2, min_samples_split=10, n_estimators=200;, score=0.714 total time=   0.4s\n",
      "[CV 4/5] END max_depth=10, min_samples_leaf=2, min_samples_split=10, n_estimators=200;, score=0.905 total time=   0.4s\n",
      "[CV 5/5] END max_depth=10, min_samples_leaf=2, min_samples_split=10, n_estimators=200;, score=0.762 total time=   0.4s\n",
      "[CV 1/5] END max_depth=10, min_samples_leaf=4, min_samples_split=2, n_estimators=50;, score=0.884 total time=   0.1s\n",
      "[CV 2/5] END max_depth=10, min_samples_leaf=4, min_samples_split=2, n_estimators=50;, score=0.860 total time=   0.1s\n",
      "[CV 3/5] END max_depth=10, min_samples_leaf=4, min_samples_split=2, n_estimators=50;, score=0.738 total time=   0.1s\n",
      "[CV 4/5] END max_depth=10, min_samples_leaf=4, min_samples_split=2, n_estimators=50;, score=0.929 total time=   0.1s\n",
      "[CV 5/5] END max_depth=10, min_samples_leaf=4, min_samples_split=2, n_estimators=50;, score=0.762 total time=   0.1s\n",
      "[CV 1/5] END max_depth=10, min_samples_leaf=4, min_samples_split=2, n_estimators=100;, score=0.860 total time=   0.2s\n",
      "[CV 2/5] END max_depth=10, min_samples_leaf=4, min_samples_split=2, n_estimators=100;, score=0.860 total time=   0.2s\n",
      "[CV 3/5] END max_depth=10, min_samples_leaf=4, min_samples_split=2, n_estimators=100;, score=0.690 total time=   0.2s\n",
      "[CV 4/5] END max_depth=10, min_samples_leaf=4, min_samples_split=2, n_estimators=100;, score=0.929 total time=   0.2s\n",
      "[CV 5/5] END max_depth=10, min_samples_leaf=4, min_samples_split=2, n_estimators=100;, score=0.738 total time=   0.2s\n",
      "[CV 1/5] END max_depth=10, min_samples_leaf=4, min_samples_split=2, n_estimators=200;, score=0.884 total time=   0.4s\n",
      "[CV 2/5] END max_depth=10, min_samples_leaf=4, min_samples_split=2, n_estimators=200;, score=0.837 total time=   0.4s\n",
      "[CV 3/5] END max_depth=10, min_samples_leaf=4, min_samples_split=2, n_estimators=200;, score=0.762 total time=   0.4s\n",
      "[CV 4/5] END max_depth=10, min_samples_leaf=4, min_samples_split=2, n_estimators=200;, score=0.905 total time=   0.4s\n",
      "[CV 5/5] END max_depth=10, min_samples_leaf=4, min_samples_split=2, n_estimators=200;, score=0.762 total time=   0.4s\n",
      "[CV 1/5] END max_depth=10, min_samples_leaf=4, min_samples_split=5, n_estimators=50;, score=0.884 total time=   0.1s\n",
      "[CV 2/5] END max_depth=10, min_samples_leaf=4, min_samples_split=5, n_estimators=50;, score=0.860 total time=   0.1s\n",
      "[CV 3/5] END max_depth=10, min_samples_leaf=4, min_samples_split=5, n_estimators=50;, score=0.738 total time=   0.1s\n",
      "[CV 4/5] END max_depth=10, min_samples_leaf=4, min_samples_split=5, n_estimators=50;, score=0.929 total time=   0.1s\n",
      "[CV 5/5] END max_depth=10, min_samples_leaf=4, min_samples_split=5, n_estimators=50;, score=0.762 total time=   0.1s\n",
      "[CV 1/5] END max_depth=10, min_samples_leaf=4, min_samples_split=5, n_estimators=100;, score=0.860 total time=   0.2s\n",
      "[CV 2/5] END max_depth=10, min_samples_leaf=4, min_samples_split=5, n_estimators=100;, score=0.860 total time=   0.2s\n",
      "[CV 3/5] END max_depth=10, min_samples_leaf=4, min_samples_split=5, n_estimators=100;, score=0.690 total time=   0.2s\n",
      "[CV 4/5] END max_depth=10, min_samples_leaf=4, min_samples_split=5, n_estimators=100;, score=0.929 total time=   0.2s\n",
      "[CV 5/5] END max_depth=10, min_samples_leaf=4, min_samples_split=5, n_estimators=100;, score=0.738 total time=   0.2s\n",
      "[CV 1/5] END max_depth=10, min_samples_leaf=4, min_samples_split=5, n_estimators=200;, score=0.884 total time=   0.4s\n",
      "[CV 2/5] END max_depth=10, min_samples_leaf=4, min_samples_split=5, n_estimators=200;, score=0.837 total time=   0.4s\n",
      "[CV 3/5] END max_depth=10, min_samples_leaf=4, min_samples_split=5, n_estimators=200;, score=0.762 total time=   0.4s\n",
      "[CV 4/5] END max_depth=10, min_samples_leaf=4, min_samples_split=5, n_estimators=200;, score=0.905 total time=   0.4s\n",
      "[CV 5/5] END max_depth=10, min_samples_leaf=4, min_samples_split=5, n_estimators=200;, score=0.762 total time=   0.4s\n",
      "[CV 1/5] END max_depth=10, min_samples_leaf=4, min_samples_split=10, n_estimators=50;, score=0.860 total time=   0.1s\n",
      "[CV 2/5] END max_depth=10, min_samples_leaf=4, min_samples_split=10, n_estimators=50;, score=0.884 total time=   0.1s\n",
      "[CV 3/5] END max_depth=10, min_samples_leaf=4, min_samples_split=10, n_estimators=50;, score=0.738 total time=   0.1s\n",
      "[CV 4/5] END max_depth=10, min_samples_leaf=4, min_samples_split=10, n_estimators=50;, score=0.905 total time=   0.1s\n",
      "[CV 5/5] END max_depth=10, min_samples_leaf=4, min_samples_split=10, n_estimators=50;, score=0.762 total time=   0.1s\n",
      "[CV 1/5] END max_depth=10, min_samples_leaf=4, min_samples_split=10, n_estimators=100;, score=0.884 total time=   0.2s\n",
      "[CV 2/5] END max_depth=10, min_samples_leaf=4, min_samples_split=10, n_estimators=100;, score=0.860 total time=   0.2s\n",
      "[CV 3/5] END max_depth=10, min_samples_leaf=4, min_samples_split=10, n_estimators=100;, score=0.714 total time=   0.2s\n",
      "[CV 4/5] END max_depth=10, min_samples_leaf=4, min_samples_split=10, n_estimators=100;, score=0.905 total time=   0.2s\n",
      "[CV 5/5] END max_depth=10, min_samples_leaf=4, min_samples_split=10, n_estimators=100;, score=0.762 total time=   0.2s\n",
      "[CV 1/5] END max_depth=10, min_samples_leaf=4, min_samples_split=10, n_estimators=200;, score=0.884 total time=   0.4s\n",
      "[CV 2/5] END max_depth=10, min_samples_leaf=4, min_samples_split=10, n_estimators=200;, score=0.837 total time=   0.4s\n",
      "[CV 3/5] END max_depth=10, min_samples_leaf=4, min_samples_split=10, n_estimators=200;, score=0.762 total time=   0.4s\n",
      "[CV 4/5] END max_depth=10, min_samples_leaf=4, min_samples_split=10, n_estimators=200;, score=0.905 total time=   0.4s\n",
      "[CV 5/5] END max_depth=10, min_samples_leaf=4, min_samples_split=10, n_estimators=200;, score=0.762 total time=   0.4s\n",
      "[CV 1/5] END max_depth=15, min_samples_leaf=1, min_samples_split=2, n_estimators=50;, score=0.884 total time=   0.1s\n",
      "[CV 2/5] END max_depth=15, min_samples_leaf=1, min_samples_split=2, n_estimators=50;, score=0.860 total time=   0.1s\n",
      "[CV 3/5] END max_depth=15, min_samples_leaf=1, min_samples_split=2, n_estimators=50;, score=0.714 total time=   0.1s\n",
      "[CV 4/5] END max_depth=15, min_samples_leaf=1, min_samples_split=2, n_estimators=50;, score=0.905 total time=   0.1s\n",
      "[CV 5/5] END max_depth=15, min_samples_leaf=1, min_samples_split=2, n_estimators=50;, score=0.738 total time=   0.1s\n",
      "[CV 1/5] END max_depth=15, min_samples_leaf=1, min_samples_split=2, n_estimators=100;, score=0.860 total time=   0.2s\n",
      "[CV 2/5] END max_depth=15, min_samples_leaf=1, min_samples_split=2, n_estimators=100;, score=0.860 total time=   0.2s\n",
      "[CV 3/5] END max_depth=15, min_samples_leaf=1, min_samples_split=2, n_estimators=100;, score=0.738 total time=   0.2s\n",
      "[CV 4/5] END max_depth=15, min_samples_leaf=1, min_samples_split=2, n_estimators=100;, score=0.905 total time=   0.2s\n",
      "[CV 5/5] END max_depth=15, min_samples_leaf=1, min_samples_split=2, n_estimators=100;, score=0.786 total time=   0.2s\n",
      "[CV 1/5] END max_depth=15, min_samples_leaf=1, min_samples_split=2, n_estimators=200;, score=0.884 total time=   0.4s\n",
      "[CV 2/5] END max_depth=15, min_samples_leaf=1, min_samples_split=2, n_estimators=200;, score=0.837 total time=   0.4s\n",
      "[CV 3/5] END max_depth=15, min_samples_leaf=1, min_samples_split=2, n_estimators=200;, score=0.762 total time=   0.4s\n",
      "[CV 4/5] END max_depth=15, min_samples_leaf=1, min_samples_split=2, n_estimators=200;, score=0.881 total time=   0.4s\n",
      "[CV 5/5] END max_depth=15, min_samples_leaf=1, min_samples_split=2, n_estimators=200;, score=0.786 total time=   0.4s\n",
      "[CV 1/5] END max_depth=15, min_samples_leaf=1, min_samples_split=5, n_estimators=50;, score=0.837 total time=   0.1s\n",
      "[CV 2/5] END max_depth=15, min_samples_leaf=1, min_samples_split=5, n_estimators=50;, score=0.837 total time=   0.1s\n",
      "[CV 3/5] END max_depth=15, min_samples_leaf=1, min_samples_split=5, n_estimators=50;, score=0.738 total time=   0.1s\n",
      "[CV 4/5] END max_depth=15, min_samples_leaf=1, min_samples_split=5, n_estimators=50;, score=0.857 total time=   0.1s\n",
      "[CV 5/5] END max_depth=15, min_samples_leaf=1, min_samples_split=5, n_estimators=50;, score=0.738 total time=   0.1s\n",
      "[CV 1/5] END max_depth=15, min_samples_leaf=1, min_samples_split=5, n_estimators=100;, score=0.837 total time=   0.2s\n",
      "[CV 2/5] END max_depth=15, min_samples_leaf=1, min_samples_split=5, n_estimators=100;, score=0.837 total time=   0.2s\n",
      "[CV 3/5] END max_depth=15, min_samples_leaf=1, min_samples_split=5, n_estimators=100;, score=0.762 total time=   0.2s\n",
      "[CV 4/5] END max_depth=15, min_samples_leaf=1, min_samples_split=5, n_estimators=100;, score=0.857 total time=   0.2s\n",
      "[CV 5/5] END max_depth=15, min_samples_leaf=1, min_samples_split=5, n_estimators=100;, score=0.762 total time=   0.2s\n",
      "[CV 1/5] END max_depth=15, min_samples_leaf=1, min_samples_split=5, n_estimators=200;, score=0.837 total time=   0.4s\n",
      "[CV 2/5] END max_depth=15, min_samples_leaf=1, min_samples_split=5, n_estimators=200;, score=0.837 total time=   0.4s\n",
      "[CV 3/5] END max_depth=15, min_samples_leaf=1, min_samples_split=5, n_estimators=200;, score=0.786 total time=   0.4s\n",
      "[CV 4/5] END max_depth=15, min_samples_leaf=1, min_samples_split=5, n_estimators=200;, score=0.857 total time=   0.4s\n",
      "[CV 5/5] END max_depth=15, min_samples_leaf=1, min_samples_split=5, n_estimators=200;, score=0.738 total time=   0.4s\n",
      "[CV 1/5] END max_depth=15, min_samples_leaf=1, min_samples_split=10, n_estimators=50;, score=0.860 total time=   0.1s\n",
      "[CV 2/5] END max_depth=15, min_samples_leaf=1, min_samples_split=10, n_estimators=50;, score=0.860 total time=   0.1s\n",
      "[CV 3/5] END max_depth=15, min_samples_leaf=1, min_samples_split=10, n_estimators=50;, score=0.738 total time=   0.1s\n",
      "[CV 4/5] END max_depth=15, min_samples_leaf=1, min_samples_split=10, n_estimators=50;, score=0.881 total time=   0.1s\n",
      "[CV 5/5] END max_depth=15, min_samples_leaf=1, min_samples_split=10, n_estimators=50;, score=0.762 total time=   0.1s\n",
      "[CV 1/5] END max_depth=15, min_samples_leaf=1, min_samples_split=10, n_estimators=100;, score=0.884 total time=   0.2s\n",
      "[CV 2/5] END max_depth=15, min_samples_leaf=1, min_samples_split=10, n_estimators=100;, score=0.860 total time=   0.2s\n",
      "[CV 3/5] END max_depth=15, min_samples_leaf=1, min_samples_split=10, n_estimators=100;, score=0.690 total time=   0.2s\n",
      "[CV 4/5] END max_depth=15, min_samples_leaf=1, min_samples_split=10, n_estimators=100;, score=0.857 total time=   0.2s\n",
      "[CV 5/5] END max_depth=15, min_samples_leaf=1, min_samples_split=10, n_estimators=100;, score=0.762 total time=   0.2s\n",
      "[CV 1/5] END max_depth=15, min_samples_leaf=1, min_samples_split=10, n_estimators=200;, score=0.884 total time=   0.4s\n",
      "[CV 2/5] END max_depth=15, min_samples_leaf=1, min_samples_split=10, n_estimators=200;, score=0.837 total time=   0.4s\n",
      "[CV 3/5] END max_depth=15, min_samples_leaf=1, min_samples_split=10, n_estimators=200;, score=0.690 total time=   0.4s\n",
      "[CV 4/5] END max_depth=15, min_samples_leaf=1, min_samples_split=10, n_estimators=200;, score=0.857 total time=   0.4s\n",
      "[CV 5/5] END max_depth=15, min_samples_leaf=1, min_samples_split=10, n_estimators=200;, score=0.762 total time=   0.4s\n",
      "[CV 1/5] END max_depth=15, min_samples_leaf=2, min_samples_split=2, n_estimators=50;, score=0.930 total time=   0.1s\n",
      "[CV 2/5] END max_depth=15, min_samples_leaf=2, min_samples_split=2, n_estimators=50;, score=0.860 total time=   0.1s\n",
      "[CV 3/5] END max_depth=15, min_samples_leaf=2, min_samples_split=2, n_estimators=50;, score=0.738 total time=   0.1s\n",
      "[CV 4/5] END max_depth=15, min_samples_leaf=2, min_samples_split=2, n_estimators=50;, score=0.881 total time=   0.1s\n",
      "[CV 5/5] END max_depth=15, min_samples_leaf=2, min_samples_split=2, n_estimators=50;, score=0.738 total time=   0.1s\n",
      "[CV 1/5] END max_depth=15, min_samples_leaf=2, min_samples_split=2, n_estimators=100;, score=0.860 total time=   0.2s\n",
      "[CV 2/5] END max_depth=15, min_samples_leaf=2, min_samples_split=2, n_estimators=100;, score=0.860 total time=   0.2s\n",
      "[CV 3/5] END max_depth=15, min_samples_leaf=2, min_samples_split=2, n_estimators=100;, score=0.786 total time=   0.2s\n",
      "[CV 4/5] END max_depth=15, min_samples_leaf=2, min_samples_split=2, n_estimators=100;, score=0.905 total time=   0.2s\n",
      "[CV 5/5] END max_depth=15, min_samples_leaf=2, min_samples_split=2, n_estimators=100;, score=0.762 total time=   0.2s\n",
      "[CV 1/5] END max_depth=15, min_samples_leaf=2, min_samples_split=2, n_estimators=200;, score=0.860 total time=   0.4s\n",
      "[CV 2/5] END max_depth=15, min_samples_leaf=2, min_samples_split=2, n_estimators=200;, score=0.837 total time=   0.4s\n",
      "[CV 3/5] END max_depth=15, min_samples_leaf=2, min_samples_split=2, n_estimators=200;, score=0.738 total time=   0.4s\n",
      "[CV 4/5] END max_depth=15, min_samples_leaf=2, min_samples_split=2, n_estimators=200;, score=0.881 total time=   0.4s\n",
      "[CV 5/5] END max_depth=15, min_samples_leaf=2, min_samples_split=2, n_estimators=200;, score=0.762 total time=   0.4s\n",
      "[CV 1/5] END max_depth=15, min_samples_leaf=2, min_samples_split=5, n_estimators=50;, score=0.884 total time=   0.1s\n",
      "[CV 2/5] END max_depth=15, min_samples_leaf=2, min_samples_split=5, n_estimators=50;, score=0.837 total time=   0.1s\n",
      "[CV 3/5] END max_depth=15, min_samples_leaf=2, min_samples_split=5, n_estimators=50;, score=0.714 total time=   0.1s\n",
      "[CV 4/5] END max_depth=15, min_samples_leaf=2, min_samples_split=5, n_estimators=50;, score=0.857 total time=   0.1s\n",
      "[CV 5/5] END max_depth=15, min_samples_leaf=2, min_samples_split=5, n_estimators=50;, score=0.786 total time=   0.1s\n",
      "[CV 1/5] END max_depth=15, min_samples_leaf=2, min_samples_split=5, n_estimators=100;, score=0.837 total time=   0.2s\n",
      "[CV 2/5] END max_depth=15, min_samples_leaf=2, min_samples_split=5, n_estimators=100;, score=0.860 total time=   0.2s\n",
      "[CV 3/5] END max_depth=15, min_samples_leaf=2, min_samples_split=5, n_estimators=100;, score=0.786 total time=   0.2s\n",
      "[CV 4/5] END max_depth=15, min_samples_leaf=2, min_samples_split=5, n_estimators=100;, score=0.857 total time=   0.2s\n",
      "[CV 5/5] END max_depth=15, min_samples_leaf=2, min_samples_split=5, n_estimators=100;, score=0.762 total time=   0.2s\n",
      "[CV 1/5] END max_depth=15, min_samples_leaf=2, min_samples_split=5, n_estimators=200;, score=0.884 total time=   0.4s\n",
      "[CV 2/5] END max_depth=15, min_samples_leaf=2, min_samples_split=5, n_estimators=200;, score=0.837 total time=   0.4s\n",
      "[CV 3/5] END max_depth=15, min_samples_leaf=2, min_samples_split=5, n_estimators=200;, score=0.714 total time=   0.4s\n",
      "[CV 4/5] END max_depth=15, min_samples_leaf=2, min_samples_split=5, n_estimators=200;, score=0.857 total time=   0.4s\n",
      "[CV 5/5] END max_depth=15, min_samples_leaf=2, min_samples_split=5, n_estimators=200;, score=0.738 total time=   0.4s\n",
      "[CV 1/5] END max_depth=15, min_samples_leaf=2, min_samples_split=10, n_estimators=50;, score=0.837 total time=   0.1s\n",
      "[CV 2/5] END max_depth=15, min_samples_leaf=2, min_samples_split=10, n_estimators=50;, score=0.884 total time=   0.1s\n",
      "[CV 3/5] END max_depth=15, min_samples_leaf=2, min_samples_split=10, n_estimators=50;, score=0.714 total time=   0.1s\n",
      "[CV 4/5] END max_depth=15, min_samples_leaf=2, min_samples_split=10, n_estimators=50;, score=0.881 total time=   0.1s\n",
      "[CV 5/5] END max_depth=15, min_samples_leaf=2, min_samples_split=10, n_estimators=50;, score=0.762 total time=   0.1s\n",
      "[CV 1/5] END max_depth=15, min_samples_leaf=2, min_samples_split=10, n_estimators=100;, score=0.884 total time=   0.2s\n",
      "[CV 2/5] END max_depth=15, min_samples_leaf=2, min_samples_split=10, n_estimators=100;, score=0.860 total time=   0.2s\n",
      "[CV 3/5] END max_depth=15, min_samples_leaf=2, min_samples_split=10, n_estimators=100;, score=0.714 total time=   0.2s\n",
      "[CV 4/5] END max_depth=15, min_samples_leaf=2, min_samples_split=10, n_estimators=100;, score=0.929 total time=   0.2s\n",
      "[CV 5/5] END max_depth=15, min_samples_leaf=2, min_samples_split=10, n_estimators=100;, score=0.762 total time=   0.2s\n",
      "[CV 1/5] END max_depth=15, min_samples_leaf=2, min_samples_split=10, n_estimators=200;, score=0.884 total time=   0.4s\n",
      "[CV 2/5] END max_depth=15, min_samples_leaf=2, min_samples_split=10, n_estimators=200;, score=0.837 total time=   0.4s\n",
      "[CV 3/5] END max_depth=15, min_samples_leaf=2, min_samples_split=10, n_estimators=200;, score=0.714 total time=   0.4s\n",
      "[CV 4/5] END max_depth=15, min_samples_leaf=2, min_samples_split=10, n_estimators=200;, score=0.905 total time=   0.4s\n",
      "[CV 5/5] END max_depth=15, min_samples_leaf=2, min_samples_split=10, n_estimators=200;, score=0.762 total time=   0.4s\n",
      "[CV 1/5] END max_depth=15, min_samples_leaf=4, min_samples_split=2, n_estimators=50;, score=0.884 total time=   0.1s\n",
      "[CV 2/5] END max_depth=15, min_samples_leaf=4, min_samples_split=2, n_estimators=50;, score=0.860 total time=   0.1s\n",
      "[CV 3/5] END max_depth=15, min_samples_leaf=4, min_samples_split=2, n_estimators=50;, score=0.738 total time=   0.1s\n",
      "[CV 4/5] END max_depth=15, min_samples_leaf=4, min_samples_split=2, n_estimators=50;, score=0.929 total time=   0.1s\n",
      "[CV 5/5] END max_depth=15, min_samples_leaf=4, min_samples_split=2, n_estimators=50;, score=0.762 total time=   0.1s\n",
      "[CV 1/5] END max_depth=15, min_samples_leaf=4, min_samples_split=2, n_estimators=100;, score=0.860 total time=   0.2s\n",
      "[CV 2/5] END max_depth=15, min_samples_leaf=4, min_samples_split=2, n_estimators=100;, score=0.860 total time=   0.2s\n",
      "[CV 3/5] END max_depth=15, min_samples_leaf=4, min_samples_split=2, n_estimators=100;, score=0.690 total time=   0.2s\n",
      "[CV 4/5] END max_depth=15, min_samples_leaf=4, min_samples_split=2, n_estimators=100;, score=0.929 total time=   0.2s\n",
      "[CV 5/5] END max_depth=15, min_samples_leaf=4, min_samples_split=2, n_estimators=100;, score=0.738 total time=   0.2s\n",
      "[CV 1/5] END max_depth=15, min_samples_leaf=4, min_samples_split=2, n_estimators=200;, score=0.884 total time=   0.4s\n",
      "[CV 2/5] END max_depth=15, min_samples_leaf=4, min_samples_split=2, n_estimators=200;, score=0.837 total time=   0.4s\n",
      "[CV 3/5] END max_depth=15, min_samples_leaf=4, min_samples_split=2, n_estimators=200;, score=0.762 total time=   0.4s\n",
      "[CV 4/5] END max_depth=15, min_samples_leaf=4, min_samples_split=2, n_estimators=200;, score=0.905 total time=   0.4s\n",
      "[CV 5/5] END max_depth=15, min_samples_leaf=4, min_samples_split=2, n_estimators=200;, score=0.762 total time=   0.4s\n",
      "[CV 1/5] END max_depth=15, min_samples_leaf=4, min_samples_split=5, n_estimators=50;, score=0.884 total time=   0.1s\n",
      "[CV 2/5] END max_depth=15, min_samples_leaf=4, min_samples_split=5, n_estimators=50;, score=0.860 total time=   0.1s\n",
      "[CV 3/5] END max_depth=15, min_samples_leaf=4, min_samples_split=5, n_estimators=50;, score=0.738 total time=   0.1s\n",
      "[CV 4/5] END max_depth=15, min_samples_leaf=4, min_samples_split=5, n_estimators=50;, score=0.929 total time=   0.1s\n",
      "[CV 5/5] END max_depth=15, min_samples_leaf=4, min_samples_split=5, n_estimators=50;, score=0.762 total time=   0.1s\n",
      "[CV 1/5] END max_depth=15, min_samples_leaf=4, min_samples_split=5, n_estimators=100;, score=0.860 total time=   0.2s\n",
      "[CV 2/5] END max_depth=15, min_samples_leaf=4, min_samples_split=5, n_estimators=100;, score=0.860 total time=   0.2s\n",
      "[CV 3/5] END max_depth=15, min_samples_leaf=4, min_samples_split=5, n_estimators=100;, score=0.690 total time=   0.2s\n",
      "[CV 4/5] END max_depth=15, min_samples_leaf=4, min_samples_split=5, n_estimators=100;, score=0.929 total time=   0.2s\n",
      "[CV 5/5] END max_depth=15, min_samples_leaf=4, min_samples_split=5, n_estimators=100;, score=0.738 total time=   0.2s\n",
      "[CV 1/5] END max_depth=15, min_samples_leaf=4, min_samples_split=5, n_estimators=200;, score=0.884 total time=   0.4s\n",
      "[CV 2/5] END max_depth=15, min_samples_leaf=4, min_samples_split=5, n_estimators=200;, score=0.837 total time=   0.4s\n",
      "[CV 3/5] END max_depth=15, min_samples_leaf=4, min_samples_split=5, n_estimators=200;, score=0.762 total time=   0.4s\n",
      "[CV 4/5] END max_depth=15, min_samples_leaf=4, min_samples_split=5, n_estimators=200;, score=0.905 total time=   0.4s\n",
      "[CV 5/5] END max_depth=15, min_samples_leaf=4, min_samples_split=5, n_estimators=200;, score=0.762 total time=   0.4s\n",
      "[CV 1/5] END max_depth=15, min_samples_leaf=4, min_samples_split=10, n_estimators=50;, score=0.860 total time=   0.1s\n",
      "[CV 2/5] END max_depth=15, min_samples_leaf=4, min_samples_split=10, n_estimators=50;, score=0.884 total time=   0.1s\n",
      "[CV 3/5] END max_depth=15, min_samples_leaf=4, min_samples_split=10, n_estimators=50;, score=0.738 total time=   0.1s\n",
      "[CV 4/5] END max_depth=15, min_samples_leaf=4, min_samples_split=10, n_estimators=50;, score=0.905 total time=   0.1s\n",
      "[CV 5/5] END max_depth=15, min_samples_leaf=4, min_samples_split=10, n_estimators=50;, score=0.762 total time=   0.1s\n",
      "[CV 1/5] END max_depth=15, min_samples_leaf=4, min_samples_split=10, n_estimators=100;, score=0.884 total time=   0.2s\n",
      "[CV 2/5] END max_depth=15, min_samples_leaf=4, min_samples_split=10, n_estimators=100;, score=0.860 total time=   0.2s\n",
      "[CV 3/5] END max_depth=15, min_samples_leaf=4, min_samples_split=10, n_estimators=100;, score=0.714 total time=   0.2s\n",
      "[CV 4/5] END max_depth=15, min_samples_leaf=4, min_samples_split=10, n_estimators=100;, score=0.905 total time=   0.2s\n",
      "[CV 5/5] END max_depth=15, min_samples_leaf=4, min_samples_split=10, n_estimators=100;, score=0.762 total time=   0.2s\n",
      "[CV 1/5] END max_depth=15, min_samples_leaf=4, min_samples_split=10, n_estimators=200;, score=0.884 total time=   0.4s\n",
      "[CV 2/5] END max_depth=15, min_samples_leaf=4, min_samples_split=10, n_estimators=200;, score=0.837 total time=   0.4s\n",
      "[CV 3/5] END max_depth=15, min_samples_leaf=4, min_samples_split=10, n_estimators=200;, score=0.762 total time=   0.4s\n",
      "[CV 4/5] END max_depth=15, min_samples_leaf=4, min_samples_split=10, n_estimators=200;, score=0.905 total time=   0.4s\n",
      "[CV 5/5] END max_depth=15, min_samples_leaf=4, min_samples_split=10, n_estimators=200;, score=0.762 total time=   0.4s\n"
     ]
    },
    {
     "data": {
      "text/html": [
       "<style>#sk-container-id-5 {color: black;background-color: white;}#sk-container-id-5 pre{padding: 0;}#sk-container-id-5 div.sk-toggleable {background-color: white;}#sk-container-id-5 label.sk-toggleable__label {cursor: pointer;display: block;width: 100%;margin-bottom: 0;padding: 0.3em;box-sizing: border-box;text-align: center;}#sk-container-id-5 label.sk-toggleable__label-arrow:before {content: \"▸\";float: left;margin-right: 0.25em;color: #696969;}#sk-container-id-5 label.sk-toggleable__label-arrow:hover:before {color: black;}#sk-container-id-5 div.sk-estimator:hover label.sk-toggleable__label-arrow:before {color: black;}#sk-container-id-5 div.sk-toggleable__content {max-height: 0;max-width: 0;overflow: hidden;text-align: left;background-color: #f0f8ff;}#sk-container-id-5 div.sk-toggleable__content pre {margin: 0.2em;color: black;border-radius: 0.25em;background-color: #f0f8ff;}#sk-container-id-5 input.sk-toggleable__control:checked~div.sk-toggleable__content {max-height: 200px;max-width: 100%;overflow: auto;}#sk-container-id-5 input.sk-toggleable__control:checked~label.sk-toggleable__label-arrow:before {content: \"▾\";}#sk-container-id-5 div.sk-estimator input.sk-toggleable__control:checked~label.sk-toggleable__label {background-color: #d4ebff;}#sk-container-id-5 div.sk-label input.sk-toggleable__control:checked~label.sk-toggleable__label {background-color: #d4ebff;}#sk-container-id-5 input.sk-hidden--visually {border: 0;clip: rect(1px 1px 1px 1px);clip: rect(1px, 1px, 1px, 1px);height: 1px;margin: -1px;overflow: hidden;padding: 0;position: absolute;width: 1px;}#sk-container-id-5 div.sk-estimator {font-family: monospace;background-color: #f0f8ff;border: 1px dotted black;border-radius: 0.25em;box-sizing: border-box;margin-bottom: 0.5em;}#sk-container-id-5 div.sk-estimator:hover {background-color: #d4ebff;}#sk-container-id-5 div.sk-parallel-item::after {content: \"\";width: 100%;border-bottom: 1px solid gray;flex-grow: 1;}#sk-container-id-5 div.sk-label:hover label.sk-toggleable__label {background-color: #d4ebff;}#sk-container-id-5 div.sk-serial::before {content: \"\";position: absolute;border-left: 1px solid gray;box-sizing: border-box;top: 0;bottom: 0;left: 50%;z-index: 0;}#sk-container-id-5 div.sk-serial {display: flex;flex-direction: column;align-items: center;background-color: white;padding-right: 0.2em;padding-left: 0.2em;position: relative;}#sk-container-id-5 div.sk-item {position: relative;z-index: 1;}#sk-container-id-5 div.sk-parallel {display: flex;align-items: stretch;justify-content: center;background-color: white;position: relative;}#sk-container-id-5 div.sk-item::before, #sk-container-id-5 div.sk-parallel-item::before {content: \"\";position: absolute;border-left: 1px solid gray;box-sizing: border-box;top: 0;bottom: 0;left: 50%;z-index: -1;}#sk-container-id-5 div.sk-parallel-item {display: flex;flex-direction: column;z-index: 1;position: relative;background-color: white;}#sk-container-id-5 div.sk-parallel-item:first-child::after {align-self: flex-end;width: 50%;}#sk-container-id-5 div.sk-parallel-item:last-child::after {align-self: flex-start;width: 50%;}#sk-container-id-5 div.sk-parallel-item:only-child::after {width: 0;}#sk-container-id-5 div.sk-dashed-wrapped {border: 1px dashed gray;margin: 0 0.4em 0.5em 0.4em;box-sizing: border-box;padding-bottom: 0.4em;background-color: white;}#sk-container-id-5 div.sk-label label {font-family: monospace;font-weight: bold;display: inline-block;line-height: 1.2em;}#sk-container-id-5 div.sk-label-container {text-align: center;}#sk-container-id-5 div.sk-container {/* jupyter's `normalize.less` sets `[hidden] { display: none; }` but bootstrap.min.css set `[hidden] { display: none !important; }` so we also need the `!important` here to be able to override the default hidden behavior on the sphinx rendered scikit-learn.org. See: https://github.com/scikit-learn/scikit-learn/issues/21755 */display: inline-block !important;position: relative;}#sk-container-id-5 div.sk-text-repr-fallback {display: none;}</style><div id=\"sk-container-id-5\" class=\"sk-top-container\"><div class=\"sk-text-repr-fallback\"><pre>GridSearchCV(cv=5,\n",
       "             estimator=RandomForestClassifier(max_depth=10, oob_score=True,\n",
       "                                              random_state=42),\n",
       "             param_grid={&#x27;max_depth&#x27;: [5, 10, 15],\n",
       "                         &#x27;min_samples_leaf&#x27;: [1, 2, 4],\n",
       "                         &#x27;min_samples_split&#x27;: [2, 5, 10],\n",
       "                         &#x27;n_estimators&#x27;: [50, 100, 200]},\n",
       "             scoring=&#x27;accuracy&#x27;, verbose=3)</pre><b>In a Jupyter environment, please rerun this cell to show the HTML representation or trust the notebook. <br />On GitHub, the HTML representation is unable to render, please try loading this page with nbviewer.org.</b></div><div class=\"sk-container\" hidden><div class=\"sk-item sk-dashed-wrapped\"><div class=\"sk-label-container\"><div class=\"sk-label sk-toggleable\"><input class=\"sk-toggleable__control sk-hidden--visually\" id=\"sk-estimator-id-7\" type=\"checkbox\" ><label for=\"sk-estimator-id-7\" class=\"sk-toggleable__label sk-toggleable__label-arrow\">GridSearchCV</label><div class=\"sk-toggleable__content\"><pre>GridSearchCV(cv=5,\n",
       "             estimator=RandomForestClassifier(max_depth=10, oob_score=True,\n",
       "                                              random_state=42),\n",
       "             param_grid={&#x27;max_depth&#x27;: [5, 10, 15],\n",
       "                         &#x27;min_samples_leaf&#x27;: [1, 2, 4],\n",
       "                         &#x27;min_samples_split&#x27;: [2, 5, 10],\n",
       "                         &#x27;n_estimators&#x27;: [50, 100, 200]},\n",
       "             scoring=&#x27;accuracy&#x27;, verbose=3)</pre></div></div></div><div class=\"sk-parallel\"><div class=\"sk-parallel-item\"><div class=\"sk-item\"><div class=\"sk-label-container\"><div class=\"sk-label sk-toggleable\"><input class=\"sk-toggleable__control sk-hidden--visually\" id=\"sk-estimator-id-8\" type=\"checkbox\" ><label for=\"sk-estimator-id-8\" class=\"sk-toggleable__label sk-toggleable__label-arrow\">estimator: RandomForestClassifier</label><div class=\"sk-toggleable__content\"><pre>RandomForestClassifier(max_depth=10, oob_score=True, random_state=42)</pre></div></div></div><div class=\"sk-serial\"><div class=\"sk-item\"><div class=\"sk-estimator sk-toggleable\"><input class=\"sk-toggleable__control sk-hidden--visually\" id=\"sk-estimator-id-9\" type=\"checkbox\" ><label for=\"sk-estimator-id-9\" class=\"sk-toggleable__label sk-toggleable__label-arrow\">RandomForestClassifier</label><div class=\"sk-toggleable__content\"><pre>RandomForestClassifier(max_depth=10, oob_score=True, random_state=42)</pre></div></div></div></div></div></div></div></div></div></div>"
      ],
      "text/plain": [
       "GridSearchCV(cv=5,\n",
       "             estimator=RandomForestClassifier(max_depth=10, oob_score=True,\n",
       "                                              random_state=42),\n",
       "             param_grid={'max_depth': [5, 10, 15],\n",
       "                         'min_samples_leaf': [1, 2, 4],\n",
       "                         'min_samples_split': [2, 5, 10],\n",
       "                         'n_estimators': [50, 100, 200]},\n",
       "             scoring='accuracy', verbose=3)"
      ]
     },
     "execution_count": 67,
     "metadata": {},
     "output_type": "execute_result"
    }
   ],
   "source": [
    "grid.fit(X_train,y_train)"
   ]
  },
  {
   "cell_type": "code",
   "execution_count": 69,
   "id": "8ef2651a-20b4-48bf-a33f-f43141a2124e",
   "metadata": {},
   "outputs": [
    {
     "data": {
      "text/plain": [
       "{'max_depth': 5,\n",
       " 'min_samples_leaf': 2,\n",
       " 'min_samples_split': 2,\n",
       " 'n_estimators': 100}"
      ]
     },
     "execution_count": 69,
     "metadata": {},
     "output_type": "execute_result"
    }
   ],
   "source": [
    "# Q7. Report the best set of hyperparameters found by the search and the corresponding performance\n",
    "# metrics. Compare the performance of the tuned model with the default model.\n",
    "\n",
    "grid.best_params_"
   ]
  },
  {
   "cell_type": "code",
   "execution_count": 73,
   "id": "c30f6a66-869d-47ab-9416-2db7c31e40d1",
   "metadata": {},
   "outputs": [],
   "source": [
    "y_pred_grid =grid.predict(X_test)"
   ]
  },
  {
   "cell_type": "code",
   "execution_count": 75,
   "id": "d7d467a0-4d8c-4746-88d0-b39710f27559",
   "metadata": {},
   "outputs": [
    {
     "data": {
      "text/plain": [
       "0.8351648351648352"
      ]
     },
     "execution_count": 75,
     "metadata": {},
     "output_type": "execute_result"
    }
   ],
   "source": [
    "accuracy_score(y_test,y_pred_grid)"
   ]
  },
  {
   "cell_type": "code",
   "execution_count": 76,
   "id": "42c7844f-2c9a-448a-9c78-3481c7aa5e87",
   "metadata": {},
   "outputs": [
    {
     "data": {
      "text/plain": [
       "0.010989010989011061"
      ]
     },
     "execution_count": 76,
     "metadata": {},
     "output_type": "execute_result"
    }
   ],
   "source": [
    "accuracy_score(y_test,y_pred_grid)-accuracy_score(y_test,y_pred)"
   ]
  },
  {
   "cell_type": "code",
   "execution_count": 77,
   "id": "9a558e2f-9a74-4809-bc19-c97b705a3a13",
   "metadata": {},
   "outputs": [],
   "source": [
    "# Q8. Interpret the model by analysing the decision boundaries of the random forest classifier. Plot the\n",
    "# decision boundaries on a scatter plot of two of the most important features. Discuss the insights and\n",
    "# limitations of the model for predicting heart disease risk."
   ]
  },
  {
   "cell_type": "code",
   "execution_count": 95,
   "id": "ec7b5cc0-4751-45e0-afde-1345775f8fee",
   "metadata": {},
   "outputs": [],
   "source": [
    "import matplotlib.pyplot as plt\n",
    "import numpy as np\n",
    "\n",
    "# Choose the two most important features\n",
    "feature_1 = \"cp\"\n",
    "feature_2 = \"thalach\""
   ]
  },
  {
   "cell_type": "code",
   "execution_count": 96,
   "id": "52e8e64f-c2f7-48fd-ab8e-dc4a864f5d92",
   "metadata": {},
   "outputs": [],
   "source": [
    "# Plot the decision boundaries on a scatter plot\n",
    "x_min, x_max = X.cp.min() , X.cp.max()\n",
    "y_min, y_max = X.thalach.min(), X.thalach.max() \n",
    "xx, yy = np.meshgrid(np.arange(x_min, x_max, 0.1),np.arange(y_min, y_max, 0.1))"
   ]
  },
  {
   "cell_type": "code",
   "execution_count": 99,
   "id": "42f75a59-ba6c-4f39-9ad4-9d913a9dee71",
   "metadata": {},
   "outputs": [],
   "source": [
    "Z = grid.predict(np.c_[xx.ravel(), yy.ravel()])\n",
    "Z = Z.reshape(xx.shape)\n",
    "plt.contourf(xx, yy, Z, alpha=0.4)\n",
    "plt.scatter(X_test[feature_1], X_test[feature_2], c=y_test, alpha=0.8)\n",
    "plt.xlabel(feature_1)\n",
    "plt.ylabel(feature_2)\n",
    "plt.title(\"Random Forest Classifier Decision Boundaries\")\n",
    "plt.show()"
   ]
  },
  {
   "cell_type": "code",
   "execution_count": null,
   "id": "7cd3c128-bd2b-49a5-b12d-8667d4304ed3",
   "metadata": {},
   "outputs": [],
   "source": []
  }
 ],
 "metadata": {
  "kernelspec": {
   "display_name": "Python 3 (ipykernel)",
   "language": "python",
   "name": "python3"
  },
  "language_info": {
   "codemirror_mode": {
    "name": "ipython",
    "version": 3
   },
   "file_extension": ".py",
   "mimetype": "text/x-python",
   "name": "python",
   "nbconvert_exporter": "python",
   "pygments_lexer": "ipython3",
   "version": "3.10.8"
  }
 },
 "nbformat": 4,
 "nbformat_minor": 5
}
