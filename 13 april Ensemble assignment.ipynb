{
 "cells": [
  {
   "cell_type": "markdown",
   "id": "a5e3ad98-57f2-4717-9f82-7d3ce617dbc4",
   "metadata": {},
   "source": [
    "Q1. What is Random Forest Regressor?\n",
    "\n",
    "Random Forest Regressor is a machine learning algorithm that uses an ensemble of decision trees to perform regression. Each decision tree in the ensemble is trained on a random subset of the data and a random subset of the features, and their predictions are averaged to obtain the final prediction."
   ]
  },
  {
   "cell_type": "markdown",
   "id": "70907123-d2bb-4cc1-b39b-854c6ec49cf3",
   "metadata": {},
   "source": [
    "Q2. How does Random Forest Regressor reduce the risk of overfitting?\n",
    "Random Forest Regressor reduces the risk of overfitting by randomly selecting subsets of the data and features to train each decision tree in the ensemble. This reduces the likelihood that the model will fit the noise in the data and makes it more robust to changes in the input data."
   ]
  },
  {
   "cell_type": "markdown",
   "id": "d8184752-2078-48a4-ba96-545037fd2e37",
   "metadata": {},
   "source": [
    "Q3. How does Random Forest Regressor aggregate the predictions of multiple decision trees?\n",
    "\n",
    "Random Forest Regressor aggregates the predictions of multiple decision trees by taking the average of their individual predictions. This approach reduces the variance of the model and makes it more accurate by reducing the likelihood of overfitting.\n",
    "\n"
   ]
  },
  {
   "cell_type": "markdown",
   "id": "c5993cee-7e5c-4a04-b936-5519d4d1ddc3",
   "metadata": {},
   "source": [
    "Q4. What are the hyperparameters of Random Forest Regressor?\n",
    "\n",
    "The hyperparameters of Random Forest Regressor include the number of decision trees in the ensemble, the maximum depth of the trees, the minimum number of samples required to split an internal node, the minimum number of samples required to be at a leaf node, and the number of features to consider when looking for the best split.e"
   ]
  },
  {
   "cell_type": "code",
   "execution_count": 5,
   "id": "f76ababa-269f-4ba3-8784-0f98ba89a5da",
   "metadata": {},
   "outputs": [
    {
     "name": "stdout",
     "output_type": "stream",
     "text": [
      "Object `Regressor` not found.\n"
     ]
    }
   ],
   "source": [
    "Q5. What is the difference between Random Forest Regressor and Decision Tree Regressor?\n"
   ]
  },
  {
   "cell_type": "code",
   "execution_count": 6,
   "id": "e1e9e907-f02a-42d8-81f4-e8a9d5b93a22",
   "metadata": {},
   "outputs": [
    {
     "name": "stdout",
     "output_type": "stream",
     "text": [
      "Object `Regressor` not found.\n"
     ]
    }
   ],
   "source": [
    "Q6. What are the advantages and disadvantages of Random Forest Regressor?\n"
   ]
  },
  {
   "cell_type": "code",
   "execution_count": 7,
   "id": "3f99523c-c461-4f18-b6d9-ed51d590f951",
   "metadata": {},
   "outputs": [
    {
     "name": "stdout",
     "output_type": "stream",
     "text": [
      "Object `Regressor` not found.\n"
     ]
    }
   ],
   "source": [
    "Q7. What is the output of Random Forest Regressor?\n"
   ]
  },
  {
   "cell_type": "code",
   "execution_count": null,
   "id": "92dbc35e-3c82-4209-94e3-3c66deb88509",
   "metadata": {},
   "outputs": [],
   "source": [
    "Q8. Can Random Forest Regressor be used for classification tasks?"
   ]
  }
 ],
 "metadata": {
  "kernelspec": {
   "display_name": "Python 3 (ipykernel)",
   "language": "python",
   "name": "python3"
  },
  "language_info": {
   "codemirror_mode": {
    "name": "ipython",
    "version": 3
   },
   "file_extension": ".py",
   "mimetype": "text/x-python",
   "name": "python",
   "nbconvert_exporter": "python",
   "pygments_lexer": "ipython3",
   "version": "3.10.8"
  }
 },
 "nbformat": 4,
 "nbformat_minor": 5
}
