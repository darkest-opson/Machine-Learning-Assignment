{
 "cells": [
  {
   "cell_type": "markdown",
   "id": "a5e3ad98-57f2-4717-9f82-7d3ce617dbc4",
   "metadata": {},
   "source": [
    "Q1. What is Random Forest Regressor?\n",
    "\n",
    "Random Forest Regressor is a machine learning algorithm that uses an ensemble of decision trees to perform regression. Each decision tree in the ensemble is trained on a random subset of the data and a random subset of the features, and their predictions are averaged to obtain the final prediction."
   ]
  },
  {
   "cell_type": "markdown",
   "id": "70907123-d2bb-4cc1-b39b-854c6ec49cf3",
   "metadata": {},
   "source": [
    "Q2. How does Random Forest Regressor reduce the risk of overfitting?\n",
    "Random Forest Regressor reduces the risk of overfitting by randomly selecting subsets of the data and features to train each decision tree in the ensemble. This reduces the likelihood that the model will fit the noise in the data and makes it more robust to changes in the input data."
   ]
  },
  {
   "cell_type": "markdown",
   "id": "d8184752-2078-48a4-ba96-545037fd2e37",
   "metadata": {},
   "source": [
    "Q3. How does Random Forest Regressor aggregate the predictions of multiple decision trees?\n",
    "\n",
    "Random Forest Regressor aggregates the predictions of multiple decision trees by taking the average of their individual predictions. This approach reduces the variance of the model and makes it more accurate by reducing the likelihood of overfitting.\n",
    "\n"
   ]
  },
  {
   "cell_type": "markdown",
   "id": "c5993cee-7e5c-4a04-b936-5519d4d1ddc3",
   "metadata": {},
   "source": [
    "Q4. What are the hyperparameters of Random Forest Regressor?\n",
    "\n",
    "The hyperparameters of Random Forest Regressor include the number of decision trees in the ensemble, the maximum depth of the trees, the minimum number of samples required to split an internal node, the minimum number of samples required to be at a leaf node, and the number of features to consider when looking for the best split.e"
   ]
  },
  {
   "cell_type": "markdown",
   "id": "48e01942-59d2-4ac3-8f4e-6cf79b9bdaed",
   "metadata": {},
   "source": [
    "Q5. What is the difference between Random Forest Regressor and Decision Tree Regressor?\n",
    "\n",
    "\n",
    "The main difference between Random Forest Regressor and Decision Tree Regressor is that Random Forest Regressor uses an ensemble of decision trees to make predictions, while Decision Tree Regressor uses a single decision tree. Random Forest Regressor is generally more accurate and less prone to overfitting than Decision Tree Regressor.\n",
    "\n"
   ]
  },
  {
   "cell_type": "markdown",
   "id": "31958272-9bb4-4f02-b2de-5036c5f523cc",
   "metadata": {},
   "source": [
    "Q6. What are the advantages and disadvantages of Random Forest Regressor?\n",
    "\n",
    "The advantages of Random Forest Regressor include its high accuracy, robustness to noise in the data, and ability to handle a large number of input variables. The disadvantages include its computational complexity, which can be slow for very large datasets, and the difficulty of interpreting the results due to the complexity of the model.\n",
    "\n"
   ]
  },
  {
   "cell_type": "markdown",
   "id": "a1d3cdb5-2202-443a-ac69-884a13840e08",
   "metadata": {},
   "source": [
    "Q7. What is the output of Random Forest Regressor?\n",
    "\n",
    "The output of Random Forest Regressor is a continuous variable, which represents the predicted value of the target variable based on the input features.\n",
    "\n",
    "\n"
   ]
  },
  {
   "cell_type": "markdown",
   "id": "e1787afe-d57b-45fa-976b-640766ff5c7d",
   "metadata": {},
   "source": [
    "Q8. Can Random Forest Regressor be used for classification tasks?\n",
    "\n",
    "Yes, Random Forest Regressor can be used for classification tasks by modifying the algorithm to perform classification instead of regression. This is done by changing the decision criterion from the mean squared error to a measure of classification accuracy, such as Gini impurity or entropy.\n"
   ]
  },
  {
   "cell_type": "code",
   "execution_count": null,
   "id": "7417138a-1b88-4c99-b498-b6f148d7fba3",
   "metadata": {},
   "outputs": [],
   "source": []
  }
 ],
 "metadata": {
  "kernelspec": {
   "display_name": "Python 3 (ipykernel)",
   "language": "python",
   "name": "python3"
  },
  "language_info": {
   "codemirror_mode": {
    "name": "ipython",
    "version": 3
   },
   "file_extension": ".py",
   "mimetype": "text/x-python",
   "name": "python",
   "nbconvert_exporter": "python",
   "pygments_lexer": "ipython3",
   "version": "3.10.8"
  }
 },
 "nbformat": 4,
 "nbformat_minor": 5
}
