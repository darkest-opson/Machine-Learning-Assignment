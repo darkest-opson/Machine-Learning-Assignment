{
 "cells": [
  {
   "cell_type": "markdown",
   "id": "47fd735d-a9dd-4bfa-af3c-3e67e972c31c",
   "metadata": {},
   "source": [
    "Q1. In order to predict house price based on several characteristics, such as location, square footage,\n",
    "number of bedrooms, etc., you are developing an SVM regression model. Which regression metric in this\n",
    "situation would be the best to employ?\n",
    "Dataset link: https://drive.google.com/file/d/1Z9oLpmt6IDRNw7IeNcHYTGeJRYypRSC0/view?usp=share_link\n",
    "\n",
    "When developing an SVM regression model to predict house prices based on several characteristics, the best regression metric to employ would be mean squared error (MSE). This metric measures the average squared difference between the predicted and actual house prices, which provides a good indication of how well the model is performing."
   ]
  },
  {
   "cell_type": "markdown",
   "id": "a97a5413-f583-46e1-b82e-be97049d5284",
   "metadata": {},
   "source": [
    "Q2. You have built an SVM regression model and are trying to decide between using MSE or R-squared as\n",
    "your evaluation metric. Which metric would be more appropriate if your goal is to predict the actual price\n",
    "of a house as accurately as possible?\n",
    "\n",
    " If your goal is to predict the actual price of a house as accurately as possible using an SVM regression model, the most appropriate evaluation metric would be mean squared error (MSE). This metric calculates the average squared difference between the predicted and actual house prices, which provides a good indication of how close the predictions are to the true values."
   ]
  },
  {
   "cell_type": "markdown",
   "id": "c0ec04ec-fe14-4dd5-b887-510620a540e6",
   "metadata": {},
   "source": [
    "Q3. You have a dataset with a significant number of outliers and are trying to select an appropriate\n",
    "regression metric to use with your SVM model. Which metric would be the most appropriate in this\n",
    "scenario?\n",
    "\n",
    " If you have a dataset with a significant number of outliers and are using an SVM regression model, the most appropriate regression metric to use would be mean absolute error (MAE). This metric calculates the average absolute difference between the predicted and actual house prices, which is less sensitive to outliers than other metrics such as MSE."
   ]
  },
  {
   "cell_type": "markdown",
   "id": "fb336ec9-91f0-414b-b9db-c581bef84bd6",
   "metadata": {},
   "source": [
    "Q4. You have built an SVM regression model using a polynomial kernel and are trying to select the best\n",
    "metric to evaluate its performance. You have calculated both MSE and RMSE and found that both values\n",
    "are very close. Which metric should you choose to use in this case?\n",
    "\n",
    "If both MSE and RMSE are very close after building an SVM regression model using a polynomial kernel, it is generally more appropriate to use the mean squared error (MSE) as the evaluation metric. This is because MSE is the most commonly used metric for regression problems and provides a good indication of how well the model is performing."
   ]
  },
  {
   "cell_type": "markdown",
   "id": "1a199bdc-b42d-4ee9-9e3c-9f9c7987503c",
   "metadata": {},
   "source": [
    "Q5. You are comparing the performance of different SVM regression models using different kernels (linear,\n",
    "polynomial, and RBF) and are trying to select the best evaluation metric. Which metric would be most\n",
    "appropriate if your goal is to measure how well the model explains the variance in the target variable?\n",
    "\n",
    " If your goal is to measure how well an SVM regression model explains the variance in the target variable, the most appropriate evaluation metric would be the coefficient of determination (R-squared). This metric calculates the proportion of the variance in the target variable that is explained by the model, which provides a good indication of how well the model is performing in terms of explaining the variability in the data."
   ]
  }
 ],
 "metadata": {
  "kernelspec": {
   "display_name": "Python 3 (ipykernel)",
   "language": "python",
   "name": "python3"
  },
  "language_info": {
   "codemirror_mode": {
    "name": "ipython",
    "version": 3
   },
   "file_extension": ".py",
   "mimetype": "text/x-python",
   "name": "python",
   "nbconvert_exporter": "python",
   "pygments_lexer": "ipython3",
   "version": "3.10.8"
  }
 },
 "nbformat": 4,
 "nbformat_minor": 5
}
