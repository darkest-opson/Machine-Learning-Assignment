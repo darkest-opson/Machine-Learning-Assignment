{
 "cells": [
  {
   "cell_type": "markdown",
   "id": "83330df1-0f6f-47db-858a-3919dd17e81f",
   "metadata": {},
   "source": [
    "Q1. What is anomaly detection and what is its purpose?\n",
    "\n",
    "Anomaly detection is the process of identifying data points or observations that are different from the majority of the data in a dataset. The purpose of anomaly detection is to identify unusual or unexpected behavior or patterns in the data that may indicate the presence of outliers, errors, or anomalies."
   ]
  },
  {
   "cell_type": "markdown",
   "id": "fb2d268e-3495-4002-b49d-9ac950b771de",
   "metadata": {},
   "source": [
    "Q2. What are the key challenges in anomaly detection?\n",
    "\n",
    "The key challenges in anomaly detection include:\n",
    "\n",
    "Defining what constitutes an anomaly or outlier in the data\n",
    "\n",
    "Dealing with imbalanced datasets where anomalies are rare\n",
    "\n",
    "Addressing the issue of high dimensionality of data\n",
    "\n",
    "Choosing an appropriate algorithm for the specific type of data and anomaly that needs to be detected\n",
    "\n",
    "Handling noisy or incomplete data\n",
    "\n",
    "Avoiding false positives or false negatives\n",
    "\n",
    "Interpreting and understanding the output of the algorithm"
   ]
  },
  {
   "cell_type": "markdown",
   "id": "e2f1ea9b-61bc-443c-8023-5c8de9027014",
   "metadata": {},
   "source": [
    "Q3. How does unsupervised anomaly detection differ from supervised anomaly detection?\n",
    "\n",
    " Unsupervised anomaly detection methods do not require labeled data and attempt to identify anomalies based on the properties of the data itself. Supervised anomaly detection methods require labeled data with examples of normal and anomalous behavior, and use this information to train a model to identify anomalies."
   ]
  },
  {
   "cell_type": "markdown",
   "id": "a413e095-8bf7-4804-a7bd-491368969255",
   "metadata": {},
   "source": [
    "Q4. What are the main categories of anomaly detection algorithms?\n",
    "\n",
    "The main categories of anomaly detection algorithms include:\n",
    "\n",
    "Statistical methods, such as Gaussian distribution, clustering, and regression\n",
    "\n",
    "Distance-based methods, such as k-nearest neighbors (KNN) and local outlier factor (LOF)\n",
    "\n",
    "Density-based methods, such as DBSCAN and Mean Shift\n",
    "\n",
    "Model-based methods, such as Isolation Forest and One-class SVM\n",
    "\n",
    "Ensemble methods, such as combination of different algorithms"
   ]
  },
  {
   "cell_type": "markdown",
   "id": "e14663f1-3ecd-46f0-b76a-afca6f07b3d3",
   "metadata": {},
   "source": [
    "Q5. What are the main assumptions made by distance-based anomaly detection methods?\n",
    "\n",
    "Distance-based anomaly detection methods assume that normal data points are located in dense regions, while anomalies are located in sparse regions. These methods compute the distance between a data point and its neighbors to determine if it is an outlier or not."
   ]
  },
  {
   "cell_type": "markdown",
   "id": "51057ce2-1103-466c-ba7b-7d579b155082",
   "metadata": {},
   "source": [
    "Q6. How does the LOF algorithm compute anomaly scores?\n",
    "\n",
    " The LOF algorithm computes anomaly scores based on the local density of a data point relative to its k-nearest neighbors. The algorithm first computes the reachability distance of each data point, which measures how far a point needs to travel to reach another point with a higher density. The local reachability density of a point is then computed based on the average reachability distance of its k-nearest neighbors. Finally, the LOF score of a data point is computed by comparing its local reachability density to that of its neighbors."
   ]
  },
  {
   "cell_type": "markdown",
   "id": "350c4e0e-3cc4-4e1f-826f-c119e7772635",
   "metadata": {},
   "source": [
    "Q7. What are the key parameters of the Isolation Forest algorithm?\n",
    "\n",
    ". The key parameters of the Isolation Forest algorithm include:\n",
    "\n",
    "n_estimators: the number of trees in the forest\n",
    "\n",
    "max_samples: the number of data points to sample for each tree\n",
    "\n",
    "contamination: the expected proportion of anomalies in the data\n",
    "\n",
    "max_features: the number of features to consider when splitting nodes\n",
    "\n",
    "bootstrap: whether or not to use bootstrapping to sample data points"
   ]
  },
  {
   "cell_type": "markdown",
   "id": "a231e6f2-48aa-4a3f-8677-662f3677ba64",
   "metadata": {},
   "source": [
    "Q8. If a data point has only 2 neighbours of the same class within a radius of 0.5, what is its anomaly score\n",
    "using KNN with K=10?"
   ]
  },
  {
   "cell_type": "markdown",
   "id": "4dfc15e1-69a2-406d-b54b-729d2d4b4438",
   "metadata": {},
   "source": [
    " If a data point has only 2 neighbors of the same class within a radius of 0.5, its anomaly score using KNN with K=10 would be relatively high, indicating that it is likely to be an outlier."
   ]
  },
  {
   "cell_type": "code",
   "execution_count": 15,
   "id": "c83c5074-c6a5-4550-8cb6-6577a0513177",
   "metadata": {},
   "outputs": [],
   "source": [
    "from sklearn.neighbors import NearestNeighbors\n",
    "X = [[1,2,2,3,4],[4,5,6,7,7]]\n",
    "# assume X is the dataset and x is the data point in question\n",
    "knn = NearestNeighbors(n_neighbors=10)\n",
    "knn.fit(X)\n",
    "distances, indices = knn.kneighbors(X)\n",
    "\n",
    "# compute the number of neighbors with the same class within a radius of 0.5\n",
    "same_class_neighbors = sum(Y[indices[0]] == Y[x] and distances[0] <= 0.5)\n",
    "\n",
    "# compute the anomaly score\n",
    "anomaly_score = 1 - same_class_neighbors / 10\n"
   ]
  },
  {
   "cell_type": "markdown",
   "id": "7e10322f-c47f-4ae4-b49d-ae953c1398dc",
   "metadata": {},
   "source": [
    "Q9. Using the Isolation Forest algorithm with 100 trees and a dataset of 3000 data points, what is the\n",
    "anomaly score for a data point that has an average path length of 5.0 compared to the average path\n",
    "length of the trees?\n",
    "\n",
    "The anomaly score for a data point with an average path length of 5.0 compared to the average path length of the trees in an Isolation Forest algorithm with 100 trees and a dataset of 3000 data points cannot be determined without additional information about the specific implementation of the algorithm. Anomaly scores in Isolation Forest depend on the average path length of the trees that a data point falls into, and the exact calculation may vary based on the implementation details.\n",
    "\n",
    "\n",
    "However, in general, the anomaly score for a data point in Isolation Forest is computed as the average path length of the trees it falls into normalized by a factor related to the average path length of the trees in the forest. A lower anomaly score indicates a higher likelihood of being an anomaly. Therefore, in this scenario, without additional information about the average path length of the trees in the forest, it is difficult to determine the exact anomaly score for the data.\n",
    "\n",
    "\n",
    "\n",
    "In this example, X is the dataset, x is the data point in question, and we want to use the Isolation Forest algorithm with 100 trees to compute the anomaly score. We first fit an IsolationForest model to the dataset, and then use the decision_function method to compute the anomaly score for x. The anomaly score ranges from -1 to 1, with a lower score indicating a higher likelihood of being an anomaly.\n",
    "\n",
    "\n",
    "\n",
    "\n",
    "\n",
    "\n"
   ]
  },
  {
   "cell_type": "code",
   "execution_count": 16,
   "id": "ef2c360e-1149-459a-81ca-626016a9717d",
   "metadata": {},
   "outputs": [],
   "source": [
    "\n",
    "from sklearn.ensemble import IsolationForest\n",
    "\n",
    "# assume X is the dataset and x is the data point in question\n",
    "clf = IsolationForest(n_estimators=100)\n",
    "clf.fit(X)\n",
    "anomaly_scores = clf.decision_function([x])\n",
    "\n",
    "# print the anomaly score\n",
    "print(anomaly_scores[0])\n"
   ]
  },
  {
   "cell_type": "code",
   "execution_count": null,
   "id": "f9ccd5af-bdc3-4004-9d97-b65895383dfe",
   "metadata": {},
   "outputs": [],
   "source": []
  }
 ],
 "metadata": {
  "kernelspec": {
   "display_name": "Python 3 (ipykernel)",
   "language": "python",
   "name": "python3"
  },
  "language_info": {
   "codemirror_mode": {
    "name": "ipython",
    "version": 3
   },
   "file_extension": ".py",
   "mimetype": "text/x-python",
   "name": "python",
   "nbconvert_exporter": "python",
   "pygments_lexer": "ipython3",
   "version": "3.10.8"
  }
 },
 "nbformat": 4,
 "nbformat_minor": 5
}
