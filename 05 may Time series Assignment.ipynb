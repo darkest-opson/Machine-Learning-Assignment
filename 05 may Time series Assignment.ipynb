{
 "cells": [
  {
   "cell_type": "markdown",
   "id": "17ded851-6632-4ac4-a7e9-167ec0a552c6",
   "metadata": {},
   "source": [
    "Q1. What is meant by time-dependent seasonal components?\n",
    "\n",
    "Time-dependent seasonal components refer to seasonal patterns in a time series data that vary over time. Unlike fixed or constant seasonal patterns, time-dependent seasonal components allow for changes in the amplitude, frequency, or shape of the seasonal patterns as time progresses.\n",
    "\n"
   ]
  },
  {
   "cell_type": "markdown",
   "id": "f8071beb-bf8d-4648-bb15-3a10df9193cc",
   "metadata": {},
   "source": [
    "Q2. How can time-dependent seasonal components be identified in time series data?\n",
    "\n",
    "Time-dependent seasonal components can be identified in time series data through various techniques. One common approach is to visually inspect the data using seasonal subseries plots or box plots to observe if the seasonal patterns change over time. Another method is to apply advanced decomposition techniques like STL (Seasonal and Trend decomposition using Loess) or TBATS (Trigonometric seasonality, Box-Cox transformation, ARMA errors, Trend, and Seasonality) that can capture time-varying seasonal components.\n",
    "\n"
   ]
  },
  {
   "cell_type": "markdown",
   "id": "b2799142-60b8-4d57-877e-8639dab2aa71",
   "metadata": {},
   "source": [
    "Q3. What are the factors that can influence time-dependent seasonal components?\n",
    "\n",
    "Several factors can influence time-dependent seasonal components in time series data. These factors may include changes in consumer behavior, technological advancements, economic cycles, policy changes, shifts in demographics, weather patterns, or other external events that can affect the underlying seasonality in the data.\n",
    "\n"
   ]
  },
  {
   "cell_type": "markdown",
   "id": "4dbec953-6212-4b4c-9eec-e297cd425cb1",
   "metadata": {},
   "source": [
    "Q4. How are autoregression models used in time series analysis and forecasting?\n",
    "\n",
    "Autoregression (AR) models are used in time series analysis and forecasting to capture the linear relationship between an observation and a certain number of lagged observations. AR models use the past values of the variable being forecasted to predict its future values. The order of the AR model, denoted as AR(p), represents the number of lagged terms used in the model.\n"
   ]
  },
  {
   "cell_type": "markdown",
   "id": "5933ed90-668e-4ce2-aa8b-a9a04377bd4c",
   "metadata": {},
   "source": [
    "Q5. How do you use autoregression models to make predictions for future time points?\n",
    "\n",
    "Autoregression models use the estimated coefficients from the historical data to predict future values. To make predictions for future time points, the model utilizes the lagged values of the time series up to the order specified by the AR model. The predicted value is calculated as a linear combination of the lagged values, weighted by the corresponding coefficients obtained during model estimation.\n",
    "\n"
   ]
  },
  {
   "cell_type": "markdown",
   "id": "17c0b928-f59c-4edf-97ab-f9253883c24a",
   "metadata": {},
   "source": [
    "Q6. What is a moving average (MA) model and how does it differ from other time series models?\n",
    "\n",
    "A moving average (MA) model is a time series model that uses the past forecast errors to predict future values. Unlike the autoregressive model that uses lagged values of the variable itself, the MA model uses the residual errors from the previous time steps. The order of the MA model, denoted as MA(q), represents the number of lagged errors used in the model. MA models are effective in capturing short-term dependencies and smoothing out random fluctuations.\n",
    "\n"
   ]
  },
  {
   "cell_type": "markdown",
   "id": "8e8699d6-5d3d-4949-b80c-9e3419a5d9ba",
   "metadata": {},
   "source": [
    "Q7. What is a mixed ARMA model and how does it differ from an AR or MA model?\n",
    "\n",
    "A mixed autoregressive moving average (ARMA) model combines both autoregressive and moving average components to capture the dynamics of a time series. An ARMA model includes both lagged values of the series (AR component) and lagged forecast errors (MA component) in its formulation. ARMA models are more flexible than either AR or MA models alone, as they can capture both short-term dependencies and long-term trends in the data. The order of an ARMA model is denoted as ARMA(p, q), representing the order of the AR and MA components, respectively."
   ]
  },
  {
   "cell_type": "code",
   "execution_count": null,
   "id": "9d3eb8ec-b9b1-4a53-b801-d65bff7fa02b",
   "metadata": {},
   "outputs": [],
   "source": []
  }
 ],
 "metadata": {
  "kernelspec": {
   "display_name": "Python 3 (ipykernel)",
   "language": "python",
   "name": "python3"
  },
  "language_info": {
   "codemirror_mode": {
    "name": "ipython",
    "version": 3
   },
   "file_extension": ".py",
   "mimetype": "text/x-python",
   "name": "python",
   "nbconvert_exporter": "python",
   "pygments_lexer": "ipython3",
   "version": "3.10.8"
  }
 },
 "nbformat": 4,
 "nbformat_minor": 5
}
