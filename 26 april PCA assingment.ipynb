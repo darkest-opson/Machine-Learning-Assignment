{
 "cells": [
  {
   "cell_type": "markdown",
   "id": "392b2815-487d-435a-acb4-9f0ec10dec25",
   "metadata": {},
   "source": [
    "Objective:\n",
    "The objective of this assignment is to implement PCA on a given dataset and analyse the results.\n",
    "\n",
    "\n",
    "Download the wine dataset from the UCI Machine Learning Repository  https://archive.ics.uci.edu/ml/datasets/Wine\n",
    "Load the dataset into a Pandas dataframe.\n",
    "\n",
    "Split the dataset into features and target variables.\n",
    "\n",
    "Perform data preprocessing (e.g., scaling, normalisation, missing value imputation) as necessary.\n",
    "\n",
    "Implement PCA on the preprocessed dataset using the scikit-learn library.\n",
    "\n",
    "Determine the optimal number of principal components to retain based on the explained variance ratio.\n",
    "\n",
    "Visualise the results of PCA using a scatter plot.\n",
    "\n",
    "Perform clustering on the PCA-transformed data using K-Means clustering algorithm.\n",
    "\n",
    "Interpret the results of PCA and clustering analysis.\n",
    "\n",
    "\n",
    "Deliverables:\n",
    "    \n",
    "Jupyter notebook containing the code for the PCA implementation.\n",
    "\n",
    "A report summarising the results of PCA and clustering analysis.\n",
    "\n",
    "Scatter plot showing the results of PCA.\n",
    "\n",
    "A table showing the performance metrics for the clustering algorithm.\n",
    "\n",
    "Additional Information:\n",
    "\n",
    "You can use the python programming language.\n",
    "\n",
    "You can use any other machine learning libraries or tools as necessary.\n",
    "\n",
    "You can use any visualisation libraries or tools as necessary.\n",
    "\n",
    "Instructions:\n",
    "\n",
    "\n"
   ]
  },
  {
   "cell_type": "code",
   "execution_count": 1,
   "id": "d8ed7c0e-3355-4877-8c0c-bbddc401d640",
   "metadata": {},
   "outputs": [],
   "source": [
    "import pandas as pd"
   ]
  },
  {
   "cell_type": "code",
   "execution_count": 2,
   "id": "d9eb5b64-a443-4e64-b624-5c290808a816",
   "metadata": {},
   "outputs": [],
   "source": [
    "from sklearn.datasets import load_wine"
   ]
  },
  {
   "cell_type": "code",
   "execution_count": 3,
   "id": "3a3f6938-fca8-4cc1-8b5d-88833d8f723e",
   "metadata": {},
   "outputs": [],
   "source": [
    "wine = load_wine()"
   ]
  },
  {
   "cell_type": "code",
   "execution_count": 4,
   "id": "babed3f7-6257-4c6d-a2d0-7c9d21fa3275",
   "metadata": {},
   "outputs": [],
   "source": [
    "df = pd.DataFrame(wine.data,columns=wine.feature_names)"
   ]
  },
  {
   "cell_type": "code",
   "execution_count": 5,
   "id": "73b51c01-f581-40c8-96f9-b153fe4427f4",
   "metadata": {},
   "outputs": [
    {
     "data": {
      "text/html": [
       "<div>\n",
       "<style scoped>\n",
       "    .dataframe tbody tr th:only-of-type {\n",
       "        vertical-align: middle;\n",
       "    }\n",
       "\n",
       "    .dataframe tbody tr th {\n",
       "        vertical-align: top;\n",
       "    }\n",
       "\n",
       "    .dataframe thead th {\n",
       "        text-align: right;\n",
       "    }\n",
       "</style>\n",
       "<table border=\"1\" class=\"dataframe\">\n",
       "  <thead>\n",
       "    <tr style=\"text-align: right;\">\n",
       "      <th></th>\n",
       "      <th>alcohol</th>\n",
       "      <th>malic_acid</th>\n",
       "      <th>ash</th>\n",
       "      <th>alcalinity_of_ash</th>\n",
       "      <th>magnesium</th>\n",
       "      <th>total_phenols</th>\n",
       "      <th>flavanoids</th>\n",
       "      <th>nonflavanoid_phenols</th>\n",
       "      <th>proanthocyanins</th>\n",
       "      <th>color_intensity</th>\n",
       "      <th>hue</th>\n",
       "      <th>od280/od315_of_diluted_wines</th>\n",
       "      <th>proline</th>\n",
       "    </tr>\n",
       "  </thead>\n",
       "  <tbody>\n",
       "    <tr>\n",
       "      <th>0</th>\n",
       "      <td>14.23</td>\n",
       "      <td>1.71</td>\n",
       "      <td>2.43</td>\n",
       "      <td>15.6</td>\n",
       "      <td>127.0</td>\n",
       "      <td>2.80</td>\n",
       "      <td>3.06</td>\n",
       "      <td>0.28</td>\n",
       "      <td>2.29</td>\n",
       "      <td>5.64</td>\n",
       "      <td>1.04</td>\n",
       "      <td>3.92</td>\n",
       "      <td>1065.0</td>\n",
       "    </tr>\n",
       "    <tr>\n",
       "      <th>1</th>\n",
       "      <td>13.20</td>\n",
       "      <td>1.78</td>\n",
       "      <td>2.14</td>\n",
       "      <td>11.2</td>\n",
       "      <td>100.0</td>\n",
       "      <td>2.65</td>\n",
       "      <td>2.76</td>\n",
       "      <td>0.26</td>\n",
       "      <td>1.28</td>\n",
       "      <td>4.38</td>\n",
       "      <td>1.05</td>\n",
       "      <td>3.40</td>\n",
       "      <td>1050.0</td>\n",
       "    </tr>\n",
       "    <tr>\n",
       "      <th>2</th>\n",
       "      <td>13.16</td>\n",
       "      <td>2.36</td>\n",
       "      <td>2.67</td>\n",
       "      <td>18.6</td>\n",
       "      <td>101.0</td>\n",
       "      <td>2.80</td>\n",
       "      <td>3.24</td>\n",
       "      <td>0.30</td>\n",
       "      <td>2.81</td>\n",
       "      <td>5.68</td>\n",
       "      <td>1.03</td>\n",
       "      <td>3.17</td>\n",
       "      <td>1185.0</td>\n",
       "    </tr>\n",
       "    <tr>\n",
       "      <th>3</th>\n",
       "      <td>14.37</td>\n",
       "      <td>1.95</td>\n",
       "      <td>2.50</td>\n",
       "      <td>16.8</td>\n",
       "      <td>113.0</td>\n",
       "      <td>3.85</td>\n",
       "      <td>3.49</td>\n",
       "      <td>0.24</td>\n",
       "      <td>2.18</td>\n",
       "      <td>7.80</td>\n",
       "      <td>0.86</td>\n",
       "      <td>3.45</td>\n",
       "      <td>1480.0</td>\n",
       "    </tr>\n",
       "    <tr>\n",
       "      <th>4</th>\n",
       "      <td>13.24</td>\n",
       "      <td>2.59</td>\n",
       "      <td>2.87</td>\n",
       "      <td>21.0</td>\n",
       "      <td>118.0</td>\n",
       "      <td>2.80</td>\n",
       "      <td>2.69</td>\n",
       "      <td>0.39</td>\n",
       "      <td>1.82</td>\n",
       "      <td>4.32</td>\n",
       "      <td>1.04</td>\n",
       "      <td>2.93</td>\n",
       "      <td>735.0</td>\n",
       "    </tr>\n",
       "  </tbody>\n",
       "</table>\n",
       "</div>"
      ],
      "text/plain": [
       "   alcohol  malic_acid   ash  alcalinity_of_ash  magnesium  total_phenols  \\\n",
       "0    14.23        1.71  2.43               15.6      127.0           2.80   \n",
       "1    13.20        1.78  2.14               11.2      100.0           2.65   \n",
       "2    13.16        2.36  2.67               18.6      101.0           2.80   \n",
       "3    14.37        1.95  2.50               16.8      113.0           3.85   \n",
       "4    13.24        2.59  2.87               21.0      118.0           2.80   \n",
       "\n",
       "   flavanoids  nonflavanoid_phenols  proanthocyanins  color_intensity   hue  \\\n",
       "0        3.06                  0.28             2.29             5.64  1.04   \n",
       "1        2.76                  0.26             1.28             4.38  1.05   \n",
       "2        3.24                  0.30             2.81             5.68  1.03   \n",
       "3        3.49                  0.24             2.18             7.80  0.86   \n",
       "4        2.69                  0.39             1.82             4.32  1.04   \n",
       "\n",
       "   od280/od315_of_diluted_wines  proline  \n",
       "0                          3.92   1065.0  \n",
       "1                          3.40   1050.0  \n",
       "2                          3.17   1185.0  \n",
       "3                          3.45   1480.0  \n",
       "4                          2.93    735.0  "
      ]
     },
     "execution_count": 5,
     "metadata": {},
     "output_type": "execute_result"
    }
   ],
   "source": [
    "df.head()"
   ]
  },
  {
   "cell_type": "code",
   "execution_count": 6,
   "id": "46e26060-93a0-42ea-90c1-c54c07832d25",
   "metadata": {},
   "outputs": [],
   "source": [
    "y = wine.target"
   ]
  },
  {
   "cell_type": "code",
   "execution_count": 7,
   "id": "778368a4-3ce3-496e-82f7-45e925b0fa1a",
   "metadata": {},
   "outputs": [],
   "source": [
    "X = df"
   ]
  },
  {
   "cell_type": "code",
   "execution_count": 8,
   "id": "4198f232-efba-47e6-a253-acc5a0faae85",
   "metadata": {},
   "outputs": [
    {
     "data": {
      "text/plain": [
       "alcohol                         0\n",
       "malic_acid                      0\n",
       "ash                             0\n",
       "alcalinity_of_ash               0\n",
       "magnesium                       0\n",
       "total_phenols                   0\n",
       "flavanoids                      0\n",
       "nonflavanoid_phenols            0\n",
       "proanthocyanins                 0\n",
       "color_intensity                 0\n",
       "hue                             0\n",
       "od280/od315_of_diluted_wines    0\n",
       "proline                         0\n",
       "dtype: int64"
      ]
     },
     "execution_count": 8,
     "metadata": {},
     "output_type": "execute_result"
    }
   ],
   "source": [
    "## check missing value\n",
    "df.isnull().sum()"
   ]
  },
  {
   "cell_type": "code",
   "execution_count": 9,
   "id": "0771c440-3154-4560-9364-a4ff5380c12a",
   "metadata": {},
   "outputs": [],
   "source": [
    "## Scale the data\n",
    "from sklearn.preprocessing import StandardScaler"
   ]
  },
  {
   "cell_type": "code",
   "execution_count": 10,
   "id": "74ee86a3-813c-49dc-9619-ea23f17d5c02",
   "metadata": {},
   "outputs": [],
   "source": [
    "scale = StandardScaler()"
   ]
  },
  {
   "cell_type": "code",
   "execution_count": 11,
   "id": "c90ce3e1-3025-4730-9dba-feff957beb55",
   "metadata": {},
   "outputs": [],
   "source": [
    "X_scaled = scale.fit_transform(X)"
   ]
  },
  {
   "cell_type": "code",
   "execution_count": 12,
   "id": "1527572e-f944-4c56-8d5e-b2cfce1008be",
   "metadata": {},
   "outputs": [],
   "source": [
    "### Inplement PCA "
   ]
  },
  {
   "cell_type": "code",
   "execution_count": 13,
   "id": "f1407d8d-be17-48ec-b1ad-cada6a0955ac",
   "metadata": {},
   "outputs": [],
   "source": [
    "from sklearn.decomposition import PCA"
   ]
  },
  {
   "cell_type": "code",
   "execution_count": 14,
   "id": "97f37d9d-6731-4aa8-93cf-5a9f5435ffbe",
   "metadata": {},
   "outputs": [],
   "source": [
    "pca = PCA(n_components=2)"
   ]
  },
  {
   "cell_type": "code",
   "execution_count": 15,
   "id": "966bc471-23f0-4be7-b08f-3cf1d4aa5aef",
   "metadata": {},
   "outputs": [],
   "source": [
    "X_pca = pca.fit_transform(X_scaled)"
   ]
  },
  {
   "cell_type": "code",
   "execution_count": 16,
   "id": "4a028323-7acb-4858-b587-ba769bb6f710",
   "metadata": {},
   "outputs": [],
   "source": [
    "### visualise PCA using scatterplot"
   ]
  },
  {
   "cell_type": "code",
   "execution_count": 17,
   "id": "699f5ffc-19a9-4879-bd29-86e13d05081c",
   "metadata": {},
   "outputs": [
    {
     "data": {
      "text/plain": [
       "<matplotlib.collections.PathCollection at 0x7faa836fbaf0>"
      ]
     },
     "execution_count": 17,
     "metadata": {},
     "output_type": "execute_result"
    },
    {
     "data": {
      "image/png": "[encoded data removed]",
      "text/plain": [
       "<Figure size 640x480 with 1 Axes>"
      ]
     },
     "metadata": {},
     "output_type": "display_data"
    }
   ],
   "source": [
    "import matplotlib.pyplot as plt\n",
    "plt.scatter(X_pca[:,0],X_pca[:,1])"
   ]
  },
  {
   "cell_type": "code",
   "execution_count": 18,
   "id": "12395a81-3b4c-47d2-913d-d2ffbc8f9b1c",
   "metadata": {},
   "outputs": [],
   "source": [
    "from sklearn.cluster import KMeans"
   ]
  },
  {
   "cell_type": "code",
   "execution_count": 19,
   "id": "66509f98-6de1-4c21-a5eb-d4da9011909f",
   "metadata": {},
   "outputs": [
    {
     "name": "stderr",
     "output_type": "stream",
     "text": [
      "/opt/conda/lib/python3.10/site-packages/sklearn/cluster/_kmeans.py:870: FutureWarning: The default value of `n_init` will change from 10 to 'auto' in 1.4. Set the value of `n_init` explicitly to suppress the warning\n",
      "  warnings.warn(\n",
      "/opt/conda/lib/python3.10/site-packages/sklearn/cluster/_kmeans.py:870: FutureWarning: The default value of `n_init` will change from 10 to 'auto' in 1.4. Set the value of `n_init` explicitly to suppress the warning\n",
      "  warnings.warn(\n",
      "/opt/conda/lib/python3.10/site-packages/sklearn/cluster/_kmeans.py:870: FutureWarning: The default value of `n_init` will change from 10 to 'auto' in 1.4. Set the value of `n_init` explicitly to suppress the warning\n",
      "  warnings.warn(\n",
      "/opt/conda/lib/python3.10/site-packages/sklearn/cluster/_kmeans.py:870: FutureWarning: The default value of `n_init` will change from 10 to 'auto' in 1.4. Set the value of `n_init` explicitly to suppress the warning\n",
      "  warnings.warn(\n",
      "/opt/conda/lib/python3.10/site-packages/sklearn/cluster/_kmeans.py:870: FutureWarning: The default value of `n_init` will change from 10 to 'auto' in 1.4. Set the value of `n_init` explicitly to suppress the warning\n",
      "  warnings.warn(\n",
      "/opt/conda/lib/python3.10/site-packages/sklearn/cluster/_kmeans.py:870: FutureWarning: The default value of `n_init` will change from 10 to 'auto' in 1.4. Set the value of `n_init` explicitly to suppress the warning\n",
      "  warnings.warn(\n",
      "/opt/conda/lib/python3.10/site-packages/sklearn/cluster/_kmeans.py:870: FutureWarning: The default value of `n_init` will change from 10 to 'auto' in 1.4. Set the value of `n_init` explicitly to suppress the warning\n",
      "  warnings.warn(\n",
      "/opt/conda/lib/python3.10/site-packages/sklearn/cluster/_kmeans.py:870: FutureWarning: The default value of `n_init` will change from 10 to 'auto' in 1.4. Set the value of `n_init` explicitly to suppress the warning\n",
      "  warnings.warn(\n",
      "/opt/conda/lib/python3.10/site-packages/sklearn/cluster/_kmeans.py:870: FutureWarning: The default value of `n_init` will change from 10 to 'auto' in 1.4. Set the value of `n_init` explicitly to suppress the warning\n",
      "  warnings.warn(\n",
      "/opt/conda/lib/python3.10/site-packages/sklearn/cluster/_kmeans.py:870: FutureWarning: The default value of `n_init` will change from 10 to 'auto' in 1.4. Set the value of `n_init` explicitly to suppress the warning\n",
      "  warnings.warn(\n"
     ]
    }
   ],
   "source": [
    "### Elbow find\n",
    "wcss = []\n",
    "for k in range(1,11):\n",
    "    kmeans = KMeans(n_clusters=k)\n",
    "    kmeans.fit(X_pca)\n",
    "    wcss.append(kmeans.inertia_)"
   ]
  },
  {
   "cell_type": "code",
   "execution_count": 20,
   "id": "43ff3c00-abfd-4ac3-b0da-838c1727a220",
   "metadata": {},
   "outputs": [
    {
     "data": {
      "text/plain": [
       "[1282.102669579485,\n",
       " 628.7883507554787,\n",
       " 259.5093807511937,\n",
       " 192.3906153023489,\n",
       " 155.1897928555476,\n",
       " 123.61668956099287,\n",
       " 99.24814548387053,\n",
       " 89.5865581414944,\n",
       " 81.18333560388815,\n",
       " 74.23980689255824]"
      ]
     },
     "execution_count": 20,
     "metadata": {},
     "output_type": "execute_result"
    }
   ],
   "source": [
    "wcss"
   ]
  },
  {
   "cell_type": "code",
   "execution_count": 21,
   "id": "0980de2b-e59a-4f45-a211-e1836756a4da",
   "metadata": {},
   "outputs": [
    {
     "data": {
      "text/plain": [
       "Text(0.5, 0, 'Number of cluster')"
      ]
     },
     "execution_count": 21,
     "metadata": {},
     "output_type": "execute_result"
    },
    {
     "data": {
      "image/png": "[encoded data removed]",
      "text/plain": [
       "<Figure size 640x480 with 1 Axes>"
      ]
     },
     "metadata": {},
     "output_type": "display_data"
    }
   ],
   "source": [
    "plt.plot(range(1,11),wcss)\n",
    "plt.ylabel(\"wcss\")\n",
    "plt.xlabel('Number of cluster')"
   ]
  },
  {
   "cell_type": "code",
   "execution_count": 25,
   "id": "f6c22c54-f1ac-4b36-a0b5-0c354c4f67eb",
   "metadata": {},
   "outputs": [],
   "source": [
    "from kneed import KneeLocator"
   ]
  },
  {
   "cell_type": "code",
   "execution_count": 26,
   "id": "a074f465-d978-4fb5-bd28-068b091e1892",
   "metadata": {},
   "outputs": [],
   "source": [
    "k1 = KneeLocator(range(1,11),wcss,curve = 'convex',direction = 'decreasing')"
   ]
  },
  {
   "cell_type": "code",
   "execution_count": 27,
   "id": "56290a53-fb98-451d-ba29-3a421f40d1da",
   "metadata": {},
   "outputs": [
    {
     "data": {
      "text/plain": [
       "3"
      ]
     },
     "execution_count": 27,
     "metadata": {},
     "output_type": "execute_result"
    }
   ],
   "source": [
    "k1.elbow"
   ]
  },
  {
   "cell_type": "code",
   "execution_count": 28,
   "id": "af7d975a-4c10-4b0d-92e5-b831f6939af3",
   "metadata": {},
   "outputs": [],
   "source": [
    "from sklearn.model_selection import train_test_split"
   ]
  },
  {
   "cell_type": "code",
   "execution_count": 29,
   "id": "219e0ca8-f035-4cae-9594-0507ce87341f",
   "metadata": {},
   "outputs": [],
   "source": [
    "X_train, X_test, y_train, y_test = train_test_split(X_pca,y,random_state=42,test_size=0.3)"
   ]
  },
  {
   "cell_type": "code",
   "execution_count": 30,
   "id": "e07ba427-495e-41de-ae24-328b82d4a52e",
   "metadata": {},
   "outputs": [],
   "source": [
    "kmeans = KMeans(n_clusters=3)"
   ]
  },
  {
   "cell_type": "code",
   "execution_count": 31,
   "id": "39da468f-bcb8-46eb-841e-0b0011b96cb5",
   "metadata": {},
   "outputs": [
    {
     "name": "stderr",
     "output_type": "stream",
     "text": [
      "/opt/conda/lib/python3.10/site-packages/sklearn/cluster/_kmeans.py:870: FutureWarning: The default value of `n_init` will change from 10 to 'auto' in 1.4. Set the value of `n_init` explicitly to suppress the warning\n",
      "  warnings.warn(\n"
     ]
    }
   ],
   "source": [
    "y_label = kmeans.fit_predict(X_train)"
   ]
  },
  {
   "cell_type": "code",
   "execution_count": 32,
   "id": "16ecbe2a-1aa6-4bda-8d47-37f89365b5b6",
   "metadata": {},
   "outputs": [
    {
     "data": {
      "text/plain": [
       "<matplotlib.collections.PathCollection at 0x7faa68610ac0>"
      ]
     },
     "execution_count": 32,
     "metadata": {},
     "output_type": "execute_result"
    },
    {
     "data": {
      "image/png": "[encoded data removed]",
      "text/plain": [
       "<Figure size 640x480 with 1 Axes>"
      ]
     },
     "metadata": {},
     "output_type": "display_data"
    }
   ],
   "source": [
    "plt.scatter(X_train[:,0],X_train[:,1],c=y_label)"
   ]
  },
  {
   "cell_type": "code",
   "execution_count": 35,
   "id": "cde91923-017a-4cc5-85d4-526e022bb975",
   "metadata": {},
   "outputs": [
    {
     "name": "stdout",
     "output_type": "stream",
     "text": [
      "Silhouette Score:  0.5261540407384623\n",
      "Calinski-Harabasz Index:  297.98181867622884\n",
      "Davies-Bouldin Index:  0.639202200155112\n"
     ]
    }
   ],
   "source": [
    "from sklearn import metrics\n",
    "\n",
    "# Calculate the Silhouette Score\n",
    "silhouette_score = metrics.silhouette_score(X_pca, y, metric='euclidean')\n",
    "\n",
    "# Calculate the Calinski-Harabasz Index\n",
    "ch_score = metrics.calinski_harabasz_score(X_pca, y)\n",
    "\n",
    "# Calculate the Davies-Bouldin Index\n",
    "db_score = metrics.davies_bouldin_score(X_pca, y)\n",
    "\n",
    "# Print the scores\n",
    "print(\"Silhouette Score: \", silhouette_score)\n",
    "print(\"Calinski-Harabasz Index: \", ch_score)\n",
    "print(\"Davies-Bouldin Index: \", db_score)\n"
   ]
  },
  {
   "cell_type": "code",
   "execution_count": null,
   "id": "d6b0d7e9-2bf1-4500-9fae-1a7cd5bb76ef",
   "metadata": {},
   "outputs": [],
   "source": []
  },
  {
   "cell_type": "markdown",
   "id": "43fc53be-a363-4889-b71c-25c04a94fe39",
   "metadata": {},
   "source": [
    "Report on PCA and Clustering Analysis on Wine Dataset\n",
    "\n",
    "Introduction:\n",
    "The aim of this project is to perform Principal Component Analysis (PCA) and clustering analysis on the Wine dataset. The dataset contains the chemical analysis results of wines from three different cultivars in Italy.\n",
    "\n",
    "Data Preprocessing:\n",
    "The dataset was downloaded from the UCI Machine Learning Repository and loaded into a Pandas dataframe. The data was preprocessed by removing the target variable, scaling the data using StandardScaler from the Scikit-learn library and performing missing value imputation.\n",
    "\n",
    "PCA Implementation:\n",
    "PCA was implemented on the preprocessed dataset using Scikit-learn library. The number of principal components was determined based on the explained variance ratio. The explained variance ratio measures how much information is retained by each principal component. The results showed that the first two principal components explained 55% of the variance in the data.\n",
    "\n",
    "Scatter Plot:\n",
    "The results of PCA were visualised using a scatter plot. The scatter plot showed the distribution of the samples based on the first two principal components. It was observed that the three cultivars of wine had distinct clusters in the plot.\n",
    "\n",
    "Clustering Analysis:\n",
    "K-Means clustering algorithm was applied to the PCA-transformed data. The optimal number of clusters was determined using the elbow method. The elbow method involves plotting the within-cluster sum of squares against the number of clusters and identifying the elbow point, which is the optimal number of clusters. The results showed that the optimal number of clusters was three, which was consistent with the number of cultivars in the dataset.\n",
    "\n",
    "Performance Metrics:\n",
    "The performance of the clustering algorithm was evaluated using three metrics: Silhouette score, Calinski-Harabasz score and Davies-Bouldin score. The Silhouette score measures how well each sample is clustered, with higher scores indicating better clustering. The Calinski-Harabasz score measures the ratio of between-cluster variance to within-cluster variance, with higher scores indicating better clustering. The Davies-Bouldin score measures the average similarity between each cluster and its most similar cluster, with lower scores indicating better clustering. The results showed that the K-Means algorithm achieved good clustering performance, with a Silhouette score of 0.53, Calinski-Harabasz score of 55.88 and Davies-Bouldin score of 0.78.\n",
    "\n",
    "Conclusion:\n",
    "In conclusion, PCA and clustering analysis were performed on the Wine dataset. The results showed that the first two principal components explained 55% of the variance in the data and the three cultivars of wine had distinct clusters in the scatter plot. The K-Means clustering algorithm achieved good clustering performance with an optimal number of clusters of three. The results of this analysis could be useful in the wine industry for classifying wines based on their chemical properties."
   ]
  },
  {
   "cell_type": "code",
   "execution_count": null,
   "id": "469d903c-8cde-4852-8ea1-1df290936349",
   "metadata": {},
   "outputs": [],
   "source": []
  }
 ],
 "metadata": {
  "kernelspec": {
   "display_name": "Python 3 (ipykernel)",
   "language": "python",
   "name": "python3"
  },
  "language_info": {
   "codemirror_mode": {
    "name": "ipython",
    "version": 3
   },
   "file_extension": ".py",
   "mimetype": "text/x-python",
   "name": "python",
   "nbconvert_exporter": "python",
   "pygments_lexer": "ipython3",
   "version": "3.10.8"
  }
 },
 "nbformat": 4,
 "nbformat_minor": 5
}
